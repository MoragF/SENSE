{
 "cells": [
  {
   "cell_type": "markdown",
   "metadata": {},
   "source": [
    "# Introduction to pandas"
   ]
  },
  {
   "cell_type": "markdown",
   "metadata": {},
   "source": [
    "* **pandas** is a Python package providing convenient data structures to work with labelled data.\n",
    "\n",
    "* **pandas** is perfectly suited for observational / statistical data sets, having many similarities with Excel spreadsheets."
   ]
  },
  {
   "cell_type": "markdown",
   "metadata": {},
   "source": [
    "* Key features:\n",
    "\n",
    "    - easy handling of **missing data**\n",
    "    - **size mutability**: columns can be inserted and deleted from DataFrame\n",
    "    - automatic and explicit **data alignment**: objects can be explicitly aligned to a set of labels, or the user can simply ignore the labels and let Series, DataFrame, etc. automatically align the data for you in computations\n",
    "    - powerful, flexible **group by** functionality to perform split-apply-combine operations on data sets\n",
    "    - make it **easy to convert** ragged, differently-indexed data in other Python and NumPy data structures into DataFrame objects\n",
    "    - intelligent label-based **slicing**, **fancy indexing**, and **subsetting** of large data sets\n",
    "    - intuitive **merging** and **joining** data sets\n",
    "    - flexible **reshaping** and pivoting of data sets\n",
    "    - **hierarchical** labeling of axes (possible to have multiple labels per tick)\n",
    "    - robust IO tools for loading data from **flat files** (CSV and delimited), Excel files, databases, and saving / loading data from the ultrafast HDF5 format\n",
    "    - **time series**-specific functionality"
   ]
  },
  {
   "cell_type": "markdown",
   "metadata": {},
   "source": [
    "### Primary data structures of pandas\n",
    "* **Series** (1-dimensional)\n",
    "* **DataFrame** (2-dimensional)"
   ]
  },
  {
   "cell_type": "markdown",
   "metadata": {},
   "source": [
    "pandas is built on top of **NumPy** and is intended to integrate well within a scientific computing environment with many other 3rd party libraries."
   ]
  },
  {
   "cell_type": "markdown",
   "metadata": {},
   "source": [
    "## Loading data"
   ]
  },
  {
   "cell_type": "markdown",
   "metadata": {},
   "source": [
    "* In this part, we will use observations of the air quality as an example\n",
    "* The data have been collected **hourly** from one of the monitoring sites in London (Marleybone Road) **over the year 2015**\n",
    "* Measured are: ozone ($O_3$), nitrogen oxides (NOx), carbon monoxide (CO) and PM10 particulate matter\n",
    "\n",
    "* Data source: https://uk-air.defra.gov.uk/data/\n",
    "* Site description: https://uk-air.defra.gov.uk/networks/site-info?uka_id=UKA00315"
   ]
  },
  {
   "cell_type": "markdown",
   "metadata": {},
   "source": [
    "First, we import pandas module. We use an alias \"pd\" to write code quicker."
   ]
  },
  {
   "cell_type": "code",
   "execution_count": 1,
   "metadata": {},
   "outputs": [],
   "source": [
    "import pandas as pd"
   ]
  },
  {
   "cell_type": "markdown",
   "metadata": {},
   "source": [
    "We also import the `os` module that is useful for building paths to files (among many other things). And `numpy` with `matplotlib` just in case too."
   ]
  },
  {
   "cell_type": "code",
   "execution_count": 2,
   "metadata": {},
   "outputs": [],
   "source": [
    "import matplotlib.pyplot as plt\n",
    "import numpy as np\n",
    "import os"
   ]
  },
  {
   "cell_type": "code",
   "execution_count": 3,
   "metadata": {},
   "outputs": [],
   "source": [
    "import warnings\n",
    "warnings.filterwarnings('ignore')"
   ]
  },
  {
   "cell_type": "code",
   "execution_count": 4,
   "metadata": {},
   "outputs": [],
   "source": [
    "fname = '../../data/air_quality_hourly_london_marylebone.csv'"
   ]
  },
  {
   "cell_type": "markdown",
   "metadata": {},
   "source": [
    "Let's try to read the data using `pandas.read_csv()` function."
   ]
  },
  {
   "cell_type": "code",
   "execution_count": 5,
   "metadata": {},
   "outputs": [],
   "source": [
    "# minimal setup to read the given file\n",
    "air_quality = pd.read_csv(fname, header=4, skipfooter=4, na_values='No data', engine='python')"
   ]
  },
  {
   "cell_type": "markdown",
   "metadata": {},
   "source": [
    "**Q**: What happens if you remove the header? skipfooter? engine?"
   ]
  },
  {
   "cell_type": "markdown",
   "metadata": {},
   "source": [
    "## Data structures: `DataFrame` and `Series`"
   ]
  },
  {
   "cell_type": "markdown",
   "metadata": {},
   "source": [
    "Let's interrogate the `DataFrame` object!"
   ]
  },
  {
   "cell_type": "code",
   "execution_count": 6,
   "metadata": {},
   "outputs": [
    {
     "data": {
      "text/plain": [
       "pandas.core.frame.DataFrame"
      ]
     },
     "execution_count": 6,
     "metadata": {},
     "output_type": "execute_result"
    }
   ],
   "source": [
    "type(air_quality)"
   ]
  },
  {
   "cell_type": "code",
   "execution_count": 7,
   "metadata": {},
   "outputs": [
    {
     "name": "stdout",
     "output_type": "stream",
     "text": [
      "(8760, 12)\n",
      "\n",
      "Start date                                    object\n",
      "End Date                                      object\n",
      "Ozone                                        float64\n",
      "Status                                        object\n",
      "Nitrogen oxides as nitrogen dioxide          float64\n",
      "Status.1                                      object\n",
      "Carbon monoxide                              float64\n",
      "Status.2                                      object\n",
      "PM10 particulate matter (Hourly measured)    float64\n",
      "Status.3                                      object\n",
      "Cobalt                                       float64\n",
      "Status.4                                     float64\n",
      "dtype: object\n"
     ]
    }
   ],
   "source": [
    "# Internal nature of the object\n",
    "print(air_quality.shape)\n",
    "print()\n",
    "print(air_quality.dtypes)"
   ]
  },
  {
   "cell_type": "code",
   "execution_count": 8,
   "metadata": {
    "scrolled": true
   },
   "outputs": [
    {
     "data": {
      "text/html": [
       "<div>\n",
       "<style scoped>\n",
       "    .dataframe tbody tr th:only-of-type {\n",
       "        vertical-align: middle;\n",
       "    }\n",
       "\n",
       "    .dataframe tbody tr th {\n",
       "        vertical-align: top;\n",
       "    }\n",
       "\n",
       "    .dataframe thead th {\n",
       "        text-align: right;\n",
       "    }\n",
       "</style>\n",
       "<table border=\"1\" class=\"dataframe\">\n",
       "  <thead>\n",
       "    <tr style=\"text-align: right;\">\n",
       "      <th></th>\n",
       "      <th>Start date</th>\n",
       "      <th>End Date</th>\n",
       "      <th>Ozone</th>\n",
       "      <th>Status</th>\n",
       "      <th>Nitrogen oxides as nitrogen dioxide</th>\n",
       "      <th>Status.1</th>\n",
       "      <th>Carbon monoxide</th>\n",
       "      <th>Status.2</th>\n",
       "      <th>PM10 particulate matter (Hourly measured)</th>\n",
       "      <th>Status.3</th>\n",
       "      <th>Cobalt</th>\n",
       "      <th>Status.4</th>\n",
       "    </tr>\n",
       "  </thead>\n",
       "  <tbody>\n",
       "    <tr>\n",
       "      <td>0</td>\n",
       "      <td>2015-01-01</td>\n",
       "      <td>01:00:00</td>\n",
       "      <td>13.70381</td>\n",
       "      <td>V ugm-3</td>\n",
       "      <td>177.01526</td>\n",
       "      <td>V ugm-3</td>\n",
       "      <td>0.375260</td>\n",
       "      <td>V mgm-3</td>\n",
       "      <td>39.3</td>\n",
       "      <td>V ugm-3 (TEOM FDMS)</td>\n",
       "      <td>NaN</td>\n",
       "      <td>NaN</td>\n",
       "    </tr>\n",
       "    <tr>\n",
       "      <td>1</td>\n",
       "      <td>2015-01-01</td>\n",
       "      <td>02:00:00</td>\n",
       "      <td>8.58151</td>\n",
       "      <td>V ugm-3</td>\n",
       "      <td>294.46380</td>\n",
       "      <td>V ugm-3</td>\n",
       "      <td>0.542517</td>\n",
       "      <td>V mgm-3</td>\n",
       "      <td>41.1</td>\n",
       "      <td>V ugm-3 (TEOM FDMS)</td>\n",
       "      <td>NaN</td>\n",
       "      <td>NaN</td>\n",
       "    </tr>\n",
       "    <tr>\n",
       "      <td>2</td>\n",
       "      <td>2015-01-01</td>\n",
       "      <td>03:00:00</td>\n",
       "      <td>9.77893</td>\n",
       "      <td>V ugm-3</td>\n",
       "      <td>209.99537</td>\n",
       "      <td>V ugm-3</td>\n",
       "      <td>0.406306</td>\n",
       "      <td>V mgm-3</td>\n",
       "      <td>35.1</td>\n",
       "      <td>V ugm-3 (TEOM FDMS)</td>\n",
       "      <td>NaN</td>\n",
       "      <td>NaN</td>\n",
       "    </tr>\n",
       "    <tr>\n",
       "      <td>3</td>\n",
       "      <td>2015-01-01</td>\n",
       "      <td>04:00:00</td>\n",
       "      <td>13.96990</td>\n",
       "      <td>V ugm-3</td>\n",
       "      <td>160.89863</td>\n",
       "      <td>V ugm-3</td>\n",
       "      <td>0.281445</td>\n",
       "      <td>V mgm-3</td>\n",
       "      <td>27.6</td>\n",
       "      <td>V ugm-3 (TEOM FDMS)</td>\n",
       "      <td>NaN</td>\n",
       "      <td>NaN</td>\n",
       "    </tr>\n",
       "    <tr>\n",
       "      <td>4</td>\n",
       "      <td>2015-01-01</td>\n",
       "      <td>05:00:00</td>\n",
       "      <td>15.66625</td>\n",
       "      <td>V ugm-3</td>\n",
       "      <td>153.89362</td>\n",
       "      <td>V ugm-3</td>\n",
       "      <td>0.250303</td>\n",
       "      <td>V mgm-3</td>\n",
       "      <td>27.9</td>\n",
       "      <td>V ugm-3 (TEOM FDMS)</td>\n",
       "      <td>NaN</td>\n",
       "      <td>NaN</td>\n",
       "    </tr>\n",
       "  </tbody>\n",
       "</table>\n",
       "</div>"
      ],
      "text/plain": [
       "   Start date  End Date     Ozone   Status  \\\n",
       "0  2015-01-01  01:00:00  13.70381  V ugm-3   \n",
       "1  2015-01-01  02:00:00   8.58151  V ugm-3   \n",
       "2  2015-01-01  03:00:00   9.77893  V ugm-3   \n",
       "3  2015-01-01  04:00:00  13.96990  V ugm-3   \n",
       "4  2015-01-01  05:00:00  15.66625  V ugm-3   \n",
       "\n",
       "   Nitrogen oxides as nitrogen dioxide Status.1  Carbon monoxide Status.2  \\\n",
       "0                            177.01526  V ugm-3         0.375260  V mgm-3   \n",
       "1                            294.46380  V ugm-3         0.542517  V mgm-3   \n",
       "2                            209.99537  V ugm-3         0.406306  V mgm-3   \n",
       "3                            160.89863  V ugm-3         0.281445  V mgm-3   \n",
       "4                            153.89362  V ugm-3         0.250303  V mgm-3   \n",
       "\n",
       "   PM10 particulate matter (Hourly measured)             Status.3  Cobalt  \\\n",
       "0                                       39.3  V ugm-3 (TEOM FDMS)     NaN   \n",
       "1                                       41.1  V ugm-3 (TEOM FDMS)     NaN   \n",
       "2                                       35.1  V ugm-3 (TEOM FDMS)     NaN   \n",
       "3                                       27.6  V ugm-3 (TEOM FDMS)     NaN   \n",
       "4                                       27.9  V ugm-3 (TEOM FDMS)     NaN   \n",
       "\n",
       "   Status.4  \n",
       "0       NaN  \n",
       "1       NaN  \n",
       "2       NaN  \n",
       "3       NaN  \n",
       "4       NaN  "
      ]
     },
     "execution_count": 8,
     "metadata": {},
     "output_type": "execute_result"
    }
   ],
   "source": [
    "# View just the tip of data\n",
    "air_quality.head(5)"
   ]
  },
  {
   "cell_type": "markdown",
   "metadata": {},
   "source": [
    "**Q:** What did you notice about \"Status\" columns? Compare them to the original text file."
   ]
  },
  {
   "cell_type": "code",
   "execution_count": 9,
   "metadata": {},
   "outputs": [
    {
     "data": {
      "text/html": [
       "<div>\n",
       "<style scoped>\n",
       "    .dataframe tbody tr th:only-of-type {\n",
       "        vertical-align: middle;\n",
       "    }\n",
       "\n",
       "    .dataframe tbody tr th {\n",
       "        vertical-align: top;\n",
       "    }\n",
       "\n",
       "    .dataframe thead th {\n",
       "        text-align: right;\n",
       "    }\n",
       "</style>\n",
       "<table border=\"1\" class=\"dataframe\">\n",
       "  <thead>\n",
       "    <tr style=\"text-align: right;\">\n",
       "      <th></th>\n",
       "      <th>Start date</th>\n",
       "      <th>End Date</th>\n",
       "      <th>Ozone</th>\n",
       "      <th>Status</th>\n",
       "      <th>Nitrogen oxides as nitrogen dioxide</th>\n",
       "      <th>Status.1</th>\n",
       "      <th>Carbon monoxide</th>\n",
       "      <th>Status.2</th>\n",
       "      <th>PM10 particulate matter (Hourly measured)</th>\n",
       "      <th>Status.3</th>\n",
       "      <th>Cobalt</th>\n",
       "      <th>Status.4</th>\n",
       "    </tr>\n",
       "  </thead>\n",
       "  <tbody>\n",
       "    <tr>\n",
       "      <td>8758</td>\n",
       "      <td>2015-12-31</td>\n",
       "      <td>23:00:00</td>\n",
       "      <td>5.63785</td>\n",
       "      <td>V ugm-3</td>\n",
       "      <td>323.28183</td>\n",
       "      <td>V ugm-3</td>\n",
       "      <td>0.842881</td>\n",
       "      <td>V mgm-3</td>\n",
       "      <td>NaN</td>\n",
       "      <td>V ugm-3 (TEOM FDMS)</td>\n",
       "      <td>NaN</td>\n",
       "      <td>NaN</td>\n",
       "    </tr>\n",
       "    <tr>\n",
       "      <td>8759</td>\n",
       "      <td>2015-12-31</td>\n",
       "      <td>24:00:00</td>\n",
       "      <td>4.83957</td>\n",
       "      <td>V ugm-3</td>\n",
       "      <td>290.91803</td>\n",
       "      <td>V ugm-3</td>\n",
       "      <td>0.722095</td>\n",
       "      <td>V mgm-3</td>\n",
       "      <td>NaN</td>\n",
       "      <td>V ugm-3 (TEOM FDMS)</td>\n",
       "      <td>NaN</td>\n",
       "      <td>NaN</td>\n",
       "    </tr>\n",
       "  </tbody>\n",
       "</table>\n",
       "</div>"
      ],
      "text/plain": [
       "      Start date  End Date    Ozone   Status  \\\n",
       "8758  2015-12-31  23:00:00  5.63785  V ugm-3   \n",
       "8759  2015-12-31  24:00:00  4.83957  V ugm-3   \n",
       "\n",
       "      Nitrogen oxides as nitrogen dioxide Status.1  Carbon monoxide Status.2  \\\n",
       "8758                            323.28183  V ugm-3         0.842881  V mgm-3   \n",
       "8759                            290.91803  V ugm-3         0.722095  V mgm-3   \n",
       "\n",
       "      PM10 particulate matter (Hourly measured)             Status.3  Cobalt  \\\n",
       "8758                                        NaN  V ugm-3 (TEOM FDMS)     NaN   \n",
       "8759                                        NaN  V ugm-3 (TEOM FDMS)     NaN   \n",
       "\n",
       "      Status.4  \n",
       "8758       NaN  \n",
       "8759       NaN  "
      ]
     },
     "execution_count": 9,
     "metadata": {},
     "output_type": "execute_result"
    }
   ],
   "source": [
    "# View the last rows of data\n",
    "air_quality.tail(n=2)  # Note the optional argument (available for head() too)"
   ]
  },
  {
   "cell_type": "markdown",
   "metadata": {},
   "source": [
    "Get descriptors for the **vertical** axis (axis=0):"
   ]
  },
  {
   "cell_type": "code",
   "execution_count": 10,
   "metadata": {},
   "outputs": [
    {
     "data": {
      "text/plain": [
       "RangeIndex(start=0, stop=8760, step=1)"
      ]
     },
     "execution_count": 10,
     "metadata": {},
     "output_type": "execute_result"
    }
   ],
   "source": [
    "air_quality.index"
   ]
  },
  {
   "cell_type": "markdown",
   "metadata": {},
   "source": [
    "Get descriptors for the horizontal axis (axis=1):"
   ]
  },
  {
   "cell_type": "code",
   "execution_count": 11,
   "metadata": {},
   "outputs": [
    {
     "data": {
      "text/plain": [
       "Index(['Start date', 'End Date', 'Ozone', 'Status',\n",
       "       'Nitrogen oxides as nitrogen dioxide', 'Status.1', 'Carbon monoxide',\n",
       "       'Status.2', 'PM10 particulate matter (Hourly measured)', 'Status.3',\n",
       "       'Cobalt', 'Status.4'],\n",
       "      dtype='object')"
      ]
     },
     "execution_count": 11,
     "metadata": {},
     "output_type": "execute_result"
    }
   ],
   "source": [
    "air_quality.columns"
   ]
  },
  {
   "cell_type": "markdown",
   "metadata": {},
   "source": [
    "A lot of information at once including memory usage:"
   ]
  },
  {
   "cell_type": "code",
   "execution_count": 12,
   "metadata": {},
   "outputs": [
    {
     "name": "stdout",
     "output_type": "stream",
     "text": [
      "<class 'pandas.core.frame.DataFrame'>\n",
      "RangeIndex: 8760 entries, 0 to 8759\n",
      "Data columns (total 12 columns):\n",
      "Start date                                   8760 non-null object\n",
      "End Date                                     8760 non-null object\n",
      "Ozone                                        8601 non-null float64\n",
      "Status                                       8760 non-null object\n",
      "Nitrogen oxides as nitrogen dioxide          8640 non-null float64\n",
      "Status.1                                     8760 non-null object\n",
      "Carbon monoxide                              8539 non-null float64\n",
      "Status.2                                     8760 non-null object\n",
      "PM10 particulate matter (Hourly measured)    8502 non-null float64\n",
      "Status.3                                     8760 non-null object\n",
      "Cobalt                                       0 non-null float64\n",
      "Status.4                                     0 non-null float64\n",
      "dtypes: float64(6), object(6)\n",
      "memory usage: 821.4+ KB\n"
     ]
    }
   ],
   "source": [
    "air_quality.info()"
   ]
  },
  {
   "cell_type": "markdown",
   "metadata": {},
   "source": [
    "### Series, pandas' 1D data containter"
   ]
  },
  {
   "cell_type": "markdown",
   "metadata": {},
   "source": [
    "A series can be constructed with the `pd.Series` constructor (passing an array of values) or from a `DataFrame`, by extracting one of its columns."
   ]
  },
  {
   "cell_type": "code",
   "execution_count": 13,
   "metadata": {
    "scrolled": true
   },
   "outputs": [],
   "source": [
    "carbon_monoxide = air_quality['Carbon monoxide']"
   ]
  },
  {
   "cell_type": "markdown",
   "metadata": {},
   "source": [
    "Some of its attributes:"
   ]
  },
  {
   "cell_type": "code",
   "execution_count": 14,
   "metadata": {},
   "outputs": [
    {
     "name": "stdout",
     "output_type": "stream",
     "text": [
      "<class 'pandas.core.series.Series'>\n",
      "float64\n",
      "(8760,)\n",
      "70080\n"
     ]
    }
   ],
   "source": [
    "print(type(carbon_monoxide))\n",
    "print(carbon_monoxide.dtype)\n",
    "print(carbon_monoxide.shape)\n",
    "print(carbon_monoxide.nbytes)"
   ]
  },
  {
   "cell_type": "markdown",
   "metadata": {},
   "source": [
    "Show me what you got!"
   ]
  },
  {
   "cell_type": "code",
   "execution_count": 15,
   "metadata": {},
   "outputs": [
    {
     "data": {
      "text/plain": [
       "0       0.375260\n",
       "1       0.542517\n",
       "2       0.406306\n",
       "3       0.281445\n",
       "4       0.250303\n",
       "          ...   \n",
       "8755    0.782342\n",
       "8756    0.903128\n",
       "8757    0.842590\n",
       "8758    0.842881\n",
       "8759    0.722095\n",
       "Name: Carbon monoxide, Length: 8760, dtype: float64"
      ]
     },
     "execution_count": 15,
     "metadata": {},
     "output_type": "execute_result"
    }
   ],
   "source": [
    "# uncomment to see the values\n",
    "carbon_monoxide"
   ]
  },
  {
   "cell_type": "markdown",
   "metadata": {},
   "source": [
    "### Numpy as pandas's backend"
   ]
  },
  {
   "cell_type": "markdown",
   "metadata": {},
   "source": [
    "It is always possible to fall back to a good old NumPy array to pass on to scientific libraries that need them: SciPy, scikit-learn, etc"
   ]
  },
  {
   "cell_type": "code",
   "execution_count": 16,
   "metadata": {},
   "outputs": [
    {
     "data": {
      "text/plain": [
       "array([177.01526, 294.4638 , 209.99537, ..., 314.07697, 323.28183,\n",
       "       290.91803])"
      ]
     },
     "execution_count": 16,
     "metadata": {},
     "output_type": "execute_result"
    }
   ],
   "source": [
    "air_quality['Nitrogen oxides as nitrogen dioxide'].values"
   ]
  },
  {
   "cell_type": "code",
   "execution_count": 17,
   "metadata": {},
   "outputs": [
    {
     "data": {
      "text/plain": [
       "numpy.ndarray"
      ]
     },
     "execution_count": 17,
     "metadata": {},
     "output_type": "execute_result"
    }
   ],
   "source": [
    "type(air_quality['Nitrogen oxides as nitrogen dioxide'].values)"
   ]
  },
  {
   "cell_type": "markdown",
   "metadata": {},
   "source": [
    "## Cleaning data"
   ]
  },
  {
   "cell_type": "markdown",
   "metadata": {},
   "source": [
    "<blockquote class=\"twitter-tweet\" data-lang=\"en\"><p lang=\"en\" dir=\"ltr\">The truth about data science: cleaning your data is 90% of the work. Fitting the model is easy. Interpreting the results is the other 90%.</p>&mdash; Jake VanderPlas (@jakevdp) <a href=\"https://twitter.com/jakevdp/status/742406386525446144\">June 13, 2016</a></blockquote>\n",
    "<script async src=\"//platform.twitter.com/widgets.js\" charset=\"utf-8\"></script>"
   ]
  },
  {
   "cell_type": "markdown",
   "metadata": {},
   "source": [
    "### Dealing with dates and times"
   ]
  },
  {
   "cell_type": "code",
   "execution_count": null,
   "metadata": {},
   "outputs": [],
   "source": [
    "# def dateparse(date_str, time_str):\n",
    "#     diff = pd.to_timedelta((df['End Date'] == '24:00:00').astype(int), unit='d')\n",
    "#     pd.datetime.strptime(x+y, '%Y-%m-%d%H:%M:%S') "
   ]
  },
  {
   "cell_type": "code",
   "execution_count": null,
   "metadata": {},
   "outputs": [],
   "source": [
    "air_quality = pd.read_csv(fname, header=4, skipfooter=4, na_values='No data', engine='python',\n",
    "                          parse_dates={'Time': [0, 1]})"
   ]
  },
  {
   "cell_type": "markdown",
   "metadata": {},
   "source": [
    "### Renaming columns"
   ]
  },
  {
   "cell_type": "code",
   "execution_count": null,
   "metadata": {},
   "outputs": [],
   "source": [
    "air_quality.columns = ['Time', 'O3', 'O3_status', 'NOx', 'NOx_status',\n",
    "                       'CO', 'CO_status', 'PM10', 'PM10_status', 'Co', 'Co_status']\n",
    "air_quality.columns"
   ]
  },
  {
   "cell_type": "markdown",
   "metadata": {},
   "source": [
    "### Deleting columns"
   ]
  },
  {
   "cell_type": "markdown",
   "metadata": {},
   "source": [
    "Let us concentrate our attention on the first 4 chemical species, and remove cobalt data from our `DataFrame`:"
   ]
  },
  {
   "cell_type": "code",
   "execution_count": null,
   "metadata": {},
   "outputs": [],
   "source": [
    "air_quality = air_quality.drop('Co', 1)\n",
    "air_quality = air_quality.drop('Co_status', 1)"
   ]
  },
  {
   "cell_type": "code",
   "execution_count": null,
   "metadata": {},
   "outputs": [],
   "source": [
    "air_quality.head()"
   ]
  },
  {
   "cell_type": "markdown",
   "metadata": {},
   "source": [
    "## Basic visualisation"
   ]
  },
  {
   "cell_type": "markdown",
   "metadata": {},
   "source": [
    "### Exercise"
   ]
  },
  {
   "cell_type": "markdown",
   "metadata": {},
   "source": [
    "Try calling `plot()` method of the `air_quality` object:"
   ]
  },
  {
   "cell_type": "code",
   "execution_count": null,
   "metadata": {},
   "outputs": [],
   "source": [
    "# air_quality.plot()"
   ]
  },
  {
   "cell_type": "markdown",
   "metadata": {},
   "source": [
    "What happens if put `subplots=True` as an argument of the `plot()` method?"
   ]
  },
  {
   "cell_type": "code",
   "execution_count": null,
   "metadata": {},
   "outputs": [],
   "source": [
    "# air_quality.plot( ... )"
   ]
  },
  {
   "cell_type": "markdown",
   "metadata": {},
   "source": [
    "It is easy to create other useful plots using `DataFrame`:"
   ]
  },
  {
   "cell_type": "code",
   "execution_count": null,
   "metadata": {
    "scrolled": true
   },
   "outputs": [],
   "source": [
    "fig, (ax0, ax1) = plt.subplots(ncols=2)\n",
    "air_quality.boxplot(ax=ax0, column=['O3', 'PM10'])\n",
    "air_quality.O3.plot(ax=ax1, kind=\"kde\")"
   ]
  },
  {
   "cell_type": "markdown",
   "metadata": {},
   "source": [
    "**Q:** the plot is too small. How to make it bigger?"
   ]
  },
  {
   "cell_type": "markdown",
   "metadata": {},
   "source": [
    "As well as just a simple line plot:"
   ]
  },
  {
   "cell_type": "code",
   "execution_count": null,
   "metadata": {},
   "outputs": [],
   "source": [
    "air_quality.O3.plot(grid=True, figsize=(12, 2))"
   ]
  },
  {
   "cell_type": "markdown",
   "metadata": {},
   "source": [
    "### Setting missing values"
   ]
  },
  {
   "cell_type": "markdown",
   "metadata": {},
   "source": [
    "As you may notice, we have negative values of ozone concentration, which does not make sense. So, let us replace those negative values with NaN:"
   ]
  },
  {
   "cell_type": "markdown",
   "metadata": {},
   "source": [
    "**Q:** how to list data entries with negative O3?"
   ]
  },
  {
   "cell_type": "code",
   "execution_count": null,
   "metadata": {},
   "outputs": [],
   "source": [
    "# your code here"
   ]
  },
  {
   "cell_type": "markdown",
   "metadata": {},
   "source": [
    "We can mask them out in the same way as you do with numpy arrays:"
   ]
  },
  {
   "cell_type": "code",
   "execution_count": null,
   "metadata": {},
   "outputs": [],
   "source": [
    "# Replace negative ozone values with NaN\n",
    "air_quality.O3[air_quality.O3.values < 0] = np.nan"
   ]
  },
  {
   "cell_type": "markdown",
   "metadata": {},
   "source": [
    "## Saving data"
   ]
  },
  {
   "cell_type": "markdown",
   "metadata": {},
   "source": [
    "For each `read_**` function to load data, there is a `to_**` method attached to `Series` and `DataFrames`."
   ]
  },
  {
   "cell_type": "markdown",
   "metadata": {},
   "source": [
    "#### Excel spreadsheets"
   ]
  },
  {
   "cell_type": "markdown",
   "metadata": {},
   "source": [
    "Uncomment the following code cell and run to save the whole `DataFrame` to an Excel file."
   ]
  },
  {
   "cell_type": "code",
   "execution_count": null,
   "metadata": {},
   "outputs": [],
   "source": [
    "# with pd.ExcelWriter(\"test.xls\") as our_writer:\n",
    "#     air_quality.to_excel(writer, sheet_name='Blah-blah')"
   ]
  },
  {
   "cell_type": "markdown",
   "metadata": {},
   "source": [
    "#### Exercise: writing to CSV text files"
   ]
  },
  {
   "cell_type": "markdown",
   "metadata": {},
   "source": [
    "Find a method to save `DataFrames` to a text file (or whatever format you like more)."
   ]
  },
  {
   "cell_type": "code",
   "execution_count": null,
   "metadata": {},
   "outputs": [],
   "source": [
    "# Your code here"
   ]
  },
  {
   "cell_type": "markdown",
   "metadata": {},
   "source": [
    "## Some statistics"
   ]
  },
  {
   "cell_type": "code",
   "execution_count": null,
   "metadata": {
    "scrolled": true
   },
   "outputs": [],
   "source": [
    "# air_quality.describe()"
   ]
  },
  {
   "cell_type": "markdown",
   "metadata": {},
   "source": [
    "## Computing correlations"
   ]
  },
  {
   "cell_type": "markdown",
   "metadata": {},
   "source": [
    "Both `Series` and `DataFrames` have a **`corr()`** method to compute the correlation coefficient."
   ]
  },
  {
   "cell_type": "code",
   "execution_count": null,
   "metadata": {
    "scrolled": true
   },
   "outputs": [],
   "source": [
    "air_quality.NOx.corr(air_quality['CO'])"
   ]
  },
  {
   "cell_type": "markdown",
   "metadata": {},
   "source": [
    "If series are already grouped into a `DataFrame`, computing all correlation coefficients is trivial:"
   ]
  },
  {
   "cell_type": "code",
   "execution_count": null,
   "metadata": {},
   "outputs": [],
   "source": [
    "air_quality.corr()"
   ]
  },
  {
   "cell_type": "markdown",
   "metadata": {},
   "source": [
    "If you want to visualise this correlation matrix, uncomment the following code cell."
   ]
  },
  {
   "cell_type": "code",
   "execution_count": null,
   "metadata": {},
   "outputs": [],
   "source": [
    "# fig, ax = plt.subplots()\n",
    "# p = ax.imshow(air_quality.corr(), interpolation=\"nearest\", cmap='RdBu_r', vmin=-1, vmax=1)\n",
    "# ax.set_xticks(np.arange(len(air_quality.corr().columns)))\n",
    "# ax.set_yticks(np.arange(len(air_quality.corr().index)))\n",
    "# ax.set_xticklabels(air_quality.corr().columns)\n",
    "# ax.set_yticklabels(air_quality.corr().index)\n",
    "# fig.colorbar(p)"
   ]
  },
  {
   "cell_type": "markdown",
   "metadata": {},
   "source": [
    "## Creating DataFrames"
   ]
  },
  {
   "cell_type": "markdown",
   "metadata": {},
   "source": [
    "* `DataFrame` can also be created manually, by grouping several `Series` together.\n",
    "* Now just for fun we switch to **another dataset**\n",
    "    - create 2 `Series` objects from 2 CSV files\n",
    "    - create a `DataFrame` by combining the two `Series`"
   ]
  },
  {
   "cell_type": "markdown",
   "metadata": {},
   "source": [
    "* Data are monthly values of\n",
    "    - Southern Oscillation Index (SOI)\n",
    "    - Outgoing Longwave Radiation (OLR), which is a proxy for convective precipitation in the western equatorial Pacific\n",
    "* Data were downloaded from NOAA's website: https://www.ncdc.noaa.gov/teleconnections/"
   ]
  },
  {
   "cell_type": "code",
   "execution_count": null,
   "metadata": {},
   "outputs": [],
   "source": [
    "soi_df = pd.read_csv('../data/soi.csv', skiprows=1, parse_dates=[0], index_col=0, na_values=-999.9,\n",
    "                     date_parser=lambda x: pd.datetime.strptime(x, '%Y%m'))"
   ]
  },
  {
   "cell_type": "code",
   "execution_count": null,
   "metadata": {},
   "outputs": [],
   "source": [
    "olr_df = pd.read_csv('../data/olr.csv', skiprows=1, parse_dates=[0], index_col=0, na_values=-999.9,\n",
    "                     date_parser=lambda x: pd.datetime.strptime(x, '%Y%m'))"
   ]
  },
  {
   "cell_type": "code",
   "execution_count": null,
   "metadata": {},
   "outputs": [],
   "source": [
    "df = pd.DataFrame({'OLR': olr_df.Value,\n",
    "                   'SOI': soi_df.Value})"
   ]
  },
  {
   "cell_type": "code",
   "execution_count": null,
   "metadata": {},
   "outputs": [],
   "source": [
    "# df.describe()"
   ]
  },
  {
   "cell_type": "markdown",
   "metadata": {},
   "source": [
    "## Ordinary Least Square (OLS) regressions"
   ]
  },
  {
   "cell_type": "markdown",
   "metadata": {},
   "source": [
    "### Primitive way: using numpy's polynomial fitting"
   ]
  },
  {
   "cell_type": "code",
   "execution_count": null,
   "metadata": {},
   "outputs": [],
   "source": [
    "from numpy.polynomial import polynomial as P"
   ]
  },
  {
   "cell_type": "code",
   "execution_count": null,
   "metadata": {},
   "outputs": [],
   "source": [
    "x = df['OLR'].values\n",
    "y = df['SOI'].values"
   ]
  },
  {
   "cell_type": "code",
   "execution_count": null,
   "metadata": {},
   "outputs": [],
   "source": [
    "idx = np.isfinite(x) & np.isfinite(y)"
   ]
  },
  {
   "cell_type": "code",
   "execution_count": null,
   "metadata": {},
   "outputs": [],
   "source": [
    "coefs, stats = P.polyfit(x[idx], y[idx], 1, full=True)"
   ]
  },
  {
   "cell_type": "code",
   "execution_count": null,
   "metadata": {},
   "outputs": [],
   "source": [
    "y2 = P.polyval(x, coefs)"
   ]
  },
  {
   "cell_type": "code",
   "execution_count": null,
   "metadata": {},
   "outputs": [],
   "source": [
    "plt.plot(x, y, linestyle='', marker='o')\n",
    "plt.plot(x, y2)"
   ]
  },
  {
   "cell_type": "markdown",
   "metadata": {},
   "source": [
    "### Recommended (and more convenient) ways (require additional packages)"
   ]
  },
  {
   "cell_type": "markdown",
   "metadata": {},
   "source": [
    "##### Statsmodels"
   ]
  },
  {
   "cell_type": "code",
   "execution_count": null,
   "metadata": {
    "scrolled": false
   },
   "outputs": [],
   "source": [
    "# import statsmodels.formula.api as sm"
   ]
  },
  {
   "cell_type": "code",
   "execution_count": null,
   "metadata": {},
   "outputs": [],
   "source": [
    "# sm_model = sm.ols(formula=\"SOI ~ OLR\", data=df).fit()"
   ]
  },
  {
   "cell_type": "code",
   "execution_count": null,
   "metadata": {},
   "outputs": [],
   "source": [
    "# df['SOI'].plot()\n",
    "# df['OLR'].plot()\n",
    "# ax = sm_model.fittedvalues.plot(label=\"model prediction\")\n",
    "# ax.legend(loc=\"lower center\", ncol=3)"
   ]
  },
  {
   "cell_type": "markdown",
   "metadata": {},
   "source": [
    "More examples: https://jakevdp.github.io/PythonDataScienceHandbook/05.06-linear-regression.html"
   ]
  },
  {
   "cell_type": "markdown",
   "metadata": {},
   "source": [
    "### Exercise: create a scatter plot"
   ]
  },
  {
   "cell_type": "markdown",
   "metadata": {},
   "source": [
    "* You can use `df.plot` function with the appropriate keywords\n",
    "* What happens if you use \"c=\" keyword?\n",
    "* Pass another parameter: `edgecolors='none'`"
   ]
  },
  {
   "cell_type": "code",
   "execution_count": null,
   "metadata": {},
   "outputs": [],
   "source": [
    "# your code here"
   ]
  },
  {
   "cell_type": "markdown",
   "metadata": {},
   "source": [
    "### Advanced scatter plot"
   ]
  },
  {
   "cell_type": "markdown",
   "metadata": {},
   "source": [
    "Using the power of matplotlib, we can create a scatter plot with points coloured by the date index. To do this we need to import one additional submodule:"
   ]
  },
  {
   "cell_type": "code",
   "execution_count": null,
   "metadata": {},
   "outputs": [],
   "source": [
    "# import matplotlib.dates as mdates"
   ]
  },
  {
   "cell_type": "markdown",
   "metadata": {},
   "source": [
    "Convert `numpy.datetime64` objects (which are the indices of our `DataFrame`) to matplotlib floating point numbers. These numbers represent the number of days (fraction part represents hours, minutes, seconds) since 0001-01-01 00:00:00 UTC (assuming Gregorian calendar)."
   ]
  },
  {
   "cell_type": "code",
   "execution_count": null,
   "metadata": {},
   "outputs": [],
   "source": [
    "# mdt = mdates.date2num(df.index)"
   ]
  },
  {
   "cell_type": "markdown",
   "metadata": {},
   "source": [
    "Append the new data to the original `DataFrame`:"
   ]
  },
  {
   "cell_type": "code",
   "execution_count": null,
   "metadata": {},
   "outputs": [],
   "source": [
    "# df['mpl_date'] = mdt"
   ]
  },
  {
   "cell_type": "markdown",
   "metadata": {},
   "source": [
    "Create a scatter plot"
   ]
  },
  {
   "cell_type": "code",
   "execution_count": null,
   "metadata": {},
   "outputs": [],
   "source": [
    "# ax = df.plot(kind='scatter', x='OLR', y='SOI', c='mpl_date',\n",
    "#              colormap='viridis', colorbar=False, edgecolors='none')\n",
    "# plt.colorbar(ax.collections[0], ticks=mdates.YearLocator(5), \n",
    "#              format=mdates.DateFormatter('%Y'))"
   ]
  },
  {
   "cell_type": "markdown",
   "metadata": {},
   "source": [
    "## Exercise: rolling functions"
   ]
  },
  {
   "cell_type": "markdown",
   "metadata": {},
   "source": [
    "**1. Subset data**"
   ]
  },
  {
   "cell_type": "markdown",
   "metadata": {},
   "source": [
    "* Start by subsetting the SOI `DataFrame`\n",
    "* Use either numerical indices, or, even better, datetime indices"
   ]
  },
  {
   "cell_type": "code",
   "execution_count": null,
   "metadata": {},
   "outputs": [],
   "source": [
    "# your code here"
   ]
  },
  {
   "cell_type": "markdown",
   "metadata": {},
   "source": [
    "**2. Plot the subset data**"
   ]
  },
  {
   "cell_type": "markdown",
   "metadata": {},
   "source": [
    "* You can create figure and axis using `matplotlib.pyplot`\n",
    "* Or just use the `plot()` method of pandas `DataFrame`"
   ]
  },
  {
   "cell_type": "code",
   "execution_count": null,
   "metadata": {},
   "outputs": [],
   "source": [
    "# your code here"
   ]
  },
  {
   "cell_type": "markdown",
   "metadata": {},
   "source": [
    "**3. Explore what `rolling()` method is**"
   ]
  },
  {
   "cell_type": "markdown",
   "metadata": {},
   "source": [
    "* What does this method return?"
   ]
  },
  {
   "cell_type": "code",
   "execution_count": null,
   "metadata": {},
   "outputs": [],
   "source": [
    "# df.rolling?"
   ]
  },
  {
   "cell_type": "code",
   "execution_count": null,
   "metadata": {},
   "outputs": [],
   "source": [
    "# your code here"
   ]
  },
  {
   "cell_type": "markdown",
   "metadata": {},
   "source": [
    "**4. Plot the original series and the smoothed series**"
   ]
  },
  {
   "cell_type": "code",
   "execution_count": null,
   "metadata": {},
   "outputs": [],
   "source": [
    "# your code here"
   ]
  },
  {
   "cell_type": "markdown",
   "metadata": {},
   "source": [
    "## References\n",
    "* https://github.com/jonathanrocher/pandas_tutorial\n",
    "* https://github.com/koldunovn/python_for_geosciences\n",
    "* http://pandas.pydata.org/pandas-docs/stable/index.html#module-pandas\n",
    "* http://pandas.pydata.org/pandas-docs/stable/10min.html"
   ]
  }
 ],
 "metadata": {
  "anaconda-cloud": {},
  "kernelspec": {
   "display_name": "Python 3",
   "language": "python",
   "name": "python3"
  },
  "language_info": {
   "codemirror_mode": {
    "name": "ipython",
    "version": 3
   },
   "file_extension": ".py",
   "mimetype": "text/x-python",
   "name": "python",
   "nbconvert_exporter": "python",
   "pygments_lexer": "ipython3",
   "version": "3.7.4"
  }
 },
 "nbformat": 4,
 "nbformat_minor": 1
}
