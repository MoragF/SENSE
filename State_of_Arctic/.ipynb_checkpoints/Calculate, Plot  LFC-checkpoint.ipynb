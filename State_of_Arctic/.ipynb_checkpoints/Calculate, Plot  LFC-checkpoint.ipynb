{
 "cells": [
  {
   "cell_type": "code",
   "execution_count": null,
   "metadata": {
    "collapsed": true
   },
   "outputs": [],
   "source": [
    "from netCDF4 import Dataset\n",
    "import numpy as np\n",
    "import matplotlib.pyplot as plt\n",
    "from matplotlib import cm\n",
    "import matplotlib as mpl\n",
    "# from matplotlib import mlab\n",
    "from mpl_toolkits.basemap import Basemap\n",
    "import scipy.interpolate as scinp\n",
    "import math\n",
    "from numpy import ma\n",
    "from matplotlib import ticker\n",
    "mpl.rcParams.update({'font.size': 14})\n",
    "Pi = np.pi\n",
    "Re = 6371000"
   ]
  },
  {
   "cell_type": "code",
   "execution_count": null,
   "metadata": {
    "collapsed": true
   },
   "outputs": [],
   "source": []
  },
  {
   "cell_type": "markdown",
   "metadata": {},
   "source": [
    "# importing data and defining useful functions"
   ]
  },
  {
   "cell_type": "code",
   "execution_count": null,
   "metadata": {
    "collapsed": true
   },
   "outputs": [],
   "source": [
    "data = []\n",
    "for i in range(24):\n",
    "    year = i+1992\n",
    "    yearstring = str(year)\n",
    "    path = '/Volumes/Stuff/Thesis/interp_monthly/SALT/SALT.' + yearstring + '.nc'\n",
    "    data.insert(i, path)\n",
    "    data[i]=Dataset(data[i])"
   ]
  },
  {
   "cell_type": "code",
   "execution_count": null,
   "metadata": {
    "collapsed": true
   },
   "outputs": [],
   "source": [
    "#should be able to do this in a loop but laptop crashes"
   ]
  },
  {
   "cell_type": "code",
   "execution_count": null,
   "metadata": {
    "collapsed": true
   },
   "outputs": [],
   "source": [
    "salt1992 = data[0]\n",
    "salt1993 = data[1]\n",
    "salt1994 = data[2]\n",
    "salt1995 = data[3]\n",
    "salt1996 = data[4]\n",
    "salt1997 = data[5]\n",
    "salt1998 = data[6]\n",
    "salt1999 = data[7]\n",
    "salt2000 = data[8]\n",
    "salt2001 = data[9]\n",
    "salt2002 = data[10]\n",
    "salt2003 = data[11]\n",
    "salt2004 = data[12]\n",
    "salt2005 = data[13]\n",
    "salt2006 = data[14]\n",
    "salt2007 = data[15]\n",
    "salt2008 = data[16]\n",
    "salt2009 = data[17]\n",
    "salt2010 = data[18]\n",
    "salt2011 = data[19]\n",
    "salt2012 = data[20]\n",
    "salt2013 = data[21]\n",
    "salt2014 = data[22]\n",
    "salt2015 = data[23]"
   ]
  },
  {
   "cell_type": "code",
   "execution_count": null,
   "metadata": {
    "collapsed": true
   },
   "outputs": [],
   "source": [
    "s1992 = salt1992.variables['SALT'][:]\n"
   ]
  },
  {
   "cell_type": "code",
   "execution_count": null,
   "metadata": {
    "collapsed": true
   },
   "outputs": [],
   "source": [
    "s1993 = salt1993.variables['SALT'][:]\n",
    "s1994 = salt1994.variables['SALT'][:]\n"
   ]
  },
  {
   "cell_type": "code",
   "execution_count": null,
   "metadata": {
    "collapsed": true
   },
   "outputs": [],
   "source": [
    "s1995 = salt1995.variables['SALT'][:]\n",
    "s1996 = salt1996.variables['SALT'][:]\n",
    "s1997 = salt1997.variables['SALT'][:]"
   ]
  },
  {
   "cell_type": "code",
   "execution_count": null,
   "metadata": {
    "collapsed": true
   },
   "outputs": [],
   "source": [
    "s1998 = salt1998.variables['SALT'][:]\n",
    "s1999 = salt1999.variables['SALT'][:]\n"
   ]
  },
  {
   "cell_type": "code",
   "execution_count": null,
   "metadata": {
    "collapsed": true
   },
   "outputs": [],
   "source": [
    "s2000 = salt2000.variables['SALT'][:]\n",
    "s2001 = salt2001.variables['SALT'][:]\n"
   ]
  },
  {
   "cell_type": "code",
   "execution_count": null,
   "metadata": {
    "collapsed": true
   },
   "outputs": [],
   "source": [
    "s2002 = salt2002.variables['SALT'][:]\n",
    "s2003 = salt2003.variables['SALT'][:]"
   ]
  },
  {
   "cell_type": "code",
   "execution_count": null,
   "metadata": {
    "collapsed": true
   },
   "outputs": [],
   "source": [
    "s2004 = salt2004.variables['SALT'][:]\n",
    "s2005 = salt2005.variables['SALT'][:]\n",
    "s2006 = salt2006.variables['SALT'][:]\n"
   ]
  },
  {
   "cell_type": "code",
   "execution_count": null,
   "metadata": {
    "collapsed": true
   },
   "outputs": [],
   "source": [
    "s2007 = salt2007.variables['SALT'][:]\n",
    "s2008 = salt2008.variables['SALT'][:]"
   ]
  },
  {
   "cell_type": "code",
   "execution_count": null,
   "metadata": {
    "collapsed": true
   },
   "outputs": [],
   "source": [
    "s2009 = salt2009.variables['SALT'][:]"
   ]
  },
  {
   "cell_type": "code",
   "execution_count": null,
   "metadata": {
    "collapsed": true
   },
   "outputs": [],
   "source": [
    "s2010 = salt2010.variables['SALT'][:]\n",
    "s2011 = salt2011.variables['SALT'][:]"
   ]
  },
  {
   "cell_type": "code",
   "execution_count": null,
   "metadata": {
    "collapsed": true
   },
   "outputs": [],
   "source": [
    "s2012 = salt2012.variables['SALT'][:]\n",
    "s2013 = salt2013.variables['SALT'][:]\n"
   ]
  },
  {
   "cell_type": "code",
   "execution_count": null,
   "metadata": {
    "collapsed": true
   },
   "outputs": [],
   "source": [
    "s2014 = salt2014.variables['SALT'][:]\n",
    "s2015 = salt2015.variables['SALT'][:]"
   ]
  },
  {
   "cell_type": "code",
   "execution_count": null,
   "metadata": {
    "collapsed": true
   },
   "outputs": [],
   "source": [
    "latE=salt1992.variables['lat'][:]#ECCO longitude: half degree spacing\n",
    "lonE=salt1992.variables['lon'][:]#ECCO latitude: half degree spacing\n",
    "zE=salt1992.variables['dep'][:]#ECCO depth: 50 levels"
   ]
  },
  {
   "cell_type": "code",
   "execution_count": null,
   "metadata": {
    "collapsed": true
   },
   "outputs": [],
   "source": [
    "#creating 1D latitude/longitude grids\n",
    "lonEnew=lonE[0]\n",
    "latEnew=[]\n",
    "\n",
    "for i in range(len(latE)):\n",
    "    li=latE[i][0]\n",
    "    latEnew.insert(i, li)\n",
    "\n",
    "latEnew=np.asarray(latEnew)"
   ]
  },
  {
   "cell_type": "code",
   "execution_count": null,
   "metadata": {
    "collapsed": true
   },
   "outputs": [],
   "source": [
    "latENP=latEnew[300:360]\n"
   ]
  },
  {
   "cell_type": "code",
   "execution_count": null,
   "metadata": {
    "collapsed": true
   },
   "outputs": [],
   "source": [
    "# this cell is for if you save the arrays using the following code, that way you only have to calculate everything once.\n",
    "septembermap207 = np.load('sepmap207.npy')\n",
    "aprilmap207 = np.load('aprilmap207.npy')\n",
    "septembermap1056 = np.load('sepmap1056.npy')\n",
    "aprilmap1056 = np.load('aprilmap1056.npy')"
   ]
  },
  {
   "cell_type": "code",
   "execution_count": null,
   "metadata": {
    "collapsed": true
   },
   "outputs": [],
   "source": [
    "def north(variable):\n",
    "    \"\"\"Isolating data above 60 North for ECCO data\"\"\"\n",
    "    variableNP=variable[:][:][300:360][:]\n",
    "    return variableNP\n",
    "\n",
    "def compare(variable1, variable2):\n",
    "    \"\"\"variable1-variable2\"\"\"\n",
    "    diff=[]\n",
    "    for i in range(len(variable1)):\n",
    "        midstep=[]\n",
    "        oi=variable1[i]\n",
    "        ti=variable2[i]\n",
    "        for j in range(len(oi)):\n",
    "            dj=oi[j]-ti[j]\n",
    "            midstep.insert(j,dj)\n",
    "        j=0\n",
    "        diff.insert(i, midstep)\n",
    "    return diff"
   ]
  },
  {
   "cell_type": "code",
   "execution_count": 9,
   "metadata": {
    "collapsed": true
   },
   "outputs": [],
   "source": [
    "newZ = []\n",
    "# need the depth of the middle of each depth level\n",
    "for i in range(len(zE)):\n",
    "    if i == 0:\n",
    "        newZ.insert(i, 0)\n",
    "    elif i == 1:\n",
    "        newZ.insert(i, 10)\n",
    "    else:\n",
    "        ni = newZ[(i-1)]+2*(zE[(i-1)]-newZ[(i-1)])\n",
    "        newZ.insert(i, ni)        "
   ]
  },
  {
   "cell_type": "code",
   "execution_count": 10,
   "metadata": {
    "collapsed": true
   },
   "outputs": [],
   "source": [
    "def lfc(salt, month, depth, Sref=34.8, north=300):\n",
    "    \"\"\"LFC of a column without plot. ECCO north=300, PHC north=145\"\"\"\n",
    "    depth = int(depth)\n",
    "    freshcontent=[]\n",
    "    salt[salt < 1] = 'NaN'\n",
    "    for i in range(len(latENP)):\n",
    "        latitudes=[]\n",
    "        a = i+north\n",
    "        for j in range(len(lonEnew)):\n",
    "            boxes=[]\n",
    "            for k in range(depth):\n",
    "                sk=salt[month][k][a][j]\n",
    "                fk=(Sref-sk)/Sref\n",
    "                dep=newZ[k+1]-newZ[k]\n",
    "                box=fk*dep\n",
    "                boxes.insert(k, box)\n",
    "            latitudes.insert(j, np.nansum(boxes))\n",
    "            k=0\n",
    "        freshcontent.insert(i, latitudes)        \n",
    "        j=0\n",
    "    freshcontent=np.asarray(freshcontent)\n",
    "    freshcontent[freshcontent==0]='NaN'\n",
    "    return freshcontent\n"
   ]
  },
  {
   "cell_type": "code",
   "execution_count": 11,
   "metadata": {
    "collapsed": true
   },
   "outputs": [],
   "source": [
    "C =Pi*(Re**2)*(1-np.sin(np.deg2rad(60)))\n",
    "def gridsquare_area(lat):\n",
    "    A = (Pi*Re**2/180)*np.abs(np.sin(np.deg2rad(lat-0.25))-np.sin(np.deg2rad(lat+0.25)))*0.5\n",
    "    return A"
   ]
  },
  {
   "cell_type": "code",
   "execution_count": 12,
   "metadata": {
    "collapsed": true
   },
   "outputs": [],
   "source": [
    "# grid square area matrix; for weighted averages\n",
    "gridareas = []\n",
    "for i in range(len(latENP)):\n",
    "    one = []\n",
    "    for j in range(len(lonEnew)):\n",
    "        gi = gridsquare_area(latENP[i])\n",
    "        one.insert(i, gi)\n",
    "    gridareas.insert(i, one)"
   ]
  },
  {
   "cell_type": "code",
   "execution_count": 13,
   "metadata": {
    "collapsed": true
   },
   "outputs": [],
   "source": [
    "SENP = s1992[:,:,300:360 ,:]\n",
    "SENP.shape\n",
    "SENPmask = ma.masked_where(~(np.isfinite(SENP)), SENP)"
   ]
  },
  {
   "cell_type": "code",
   "execution_count": 14,
   "metadata": {
    "collapsed": true
   },
   "outputs": [],
   "source": [
    "formask = ma.masked_where((np.isfinite(SENP[0])), SENP[0])\n",
    "maskland = ma.getmaskarray(formask)\n",
    "maskland01 = maskland.astype(np.int)\n",
    "\n",
    "area = []\n",
    "for k in range(len(newZ)):\n",
    "    a = np.multiply(maskland01[k,:,:], gridareas)\n",
    "    s = np.sum(a)\n",
    "    area.insert(k, s)"
   ]
  },
  {
   "cell_type": "code",
   "execution_count": 17,
   "metadata": {
    "collapsed": true
   },
   "outputs": [],
   "source": [
    "def basinlfc(salt,month, Sref=34.8,depth=17, north=300):\n",
    "    \"\"\"LFC integrated over ocean basin. \n",
    "    Default values are Sref=34.8, month=Jan, depth=207m, north=300 (ECCO North)\n",
    "    lfc(salt, month, depth, Sref=34.8, north=300):\"\"\"\n",
    "    depth = int(depth)\n",
    "    a=lfc(salt, month, depth, Sref, north)\n",
    "    idk=[]\n",
    "    for i in range(len(latENP)):\n",
    "        g=[]\n",
    "        for j in range(len(lonEnew)):\n",
    "            f = a[i,j]*(gridareas[i][j]/area[0])*maskland01[0,i,j]\n",
    "            g.insert(j, np.nansum(f))\n",
    "        idk.insert(i, np.nansum(g))\n",
    "    final = np.nansum(idk)\n",
    "    return final"
   ]
  },
  {
   "cell_type": "markdown",
   "metadata": {},
   "source": [
    "# creating arrays of LFC etc."
   ]
  },
  {
   "cell_type": "code",
   "execution_count": null,
   "metadata": {
    "collapsed": true
   },
   "outputs": [],
   "source": [
    "allsalt = [s1992, s1993, s1994, s1995, s1996, s1997, s1998, s1999, s2000, s2001, s2002, s2003, s2004, s2005, s2006, s2007, s2008, s2009, s2010, s2011, s2012, s2013, s2014,s2015]"
   ]
  },
  {
   "cell_type": "code",
   "execution_count": null,
   "metadata": {
    "collapsed": true
   },
   "outputs": [],
   "source": [
    "for i in range(len(allsalt)):\n",
    "    np.save('salt'+str(1992+i)+'.npy',allsalt[i])"
   ]
  },
  {
   "cell_type": "code",
   "execution_count": null,
   "metadata": {
    "collapsed": true
   },
   "outputs": [],
   "source": [
    "NPsalt = []\n",
    "for i in range(len(allsalt)):\n",
    "    si = allsalt[i]\n",
    "    ni = si[:,:,300:360,:]\n",
    "    NPsalt.insert(i, si)"
   ]
  },
  {
   "cell_type": "code",
   "execution_count": null,
   "metadata": {
    "collapsed": true
   },
   "outputs": [],
   "source": [
    "blfc2015 = []\n",
    "for j in range(12):\n",
    "    bj = basinlfc(NPsalt[23], month=j)\n",
    "    blfc2015.insert(j, bj)"
   ]
  },
  {
   "cell_type": "code",
   "execution_count": null,
   "metadata": {
    "collapsed": true
   },
   "outputs": [],
   "source": [
    "basinlfc207 = []\n",
    "for i in range(len(NPsalt)):\n",
    "    year = []\n",
    "    for j in range(12):\n",
    "        bj = basinlfc(NPsalt[i], month=j)\n",
    "        year.insert(j, bj)\n",
    "    basinlfc207.insert(i, year)\n",
    "    "
   ]
  },
  {
   "cell_type": "code",
   "execution_count": null,
   "metadata": {
    "collapsed": true
   },
   "outputs": [],
   "source": [
    "np.save('basin207', basinlfc207)\n",
    "np.save('basin1056', basinlfc1056)"
   ]
  },
  {
   "cell_type": "code",
   "execution_count": null,
   "metadata": {
    "collapsed": true
   },
   "outputs": [],
   "source": [
    "basinlfc1056 = []\n",
    "for i in range(len(NPsalt)):\n",
    "    year = []\n",
    "    for j in range(12):\n",
    "        bj = basinlfc(NPsalt[i], month=j, depth=29)\n",
    "        year.insert(j, bj)\n",
    "    basinlfc1056.insert(i, year)"
   ]
  },
  {
   "cell_type": "code",
   "execution_count": null,
   "metadata": {
    "collapsed": true
   },
   "outputs": [],
   "source": [
    "basinlfcinterior=np.subtract(basinlfc1056, basinlfc207)"
   ]
  },
  {
   "cell_type": "code",
   "execution_count": null,
   "metadata": {
    "collapsed": true
   },
   "outputs": [],
   "source": [
    "lfc1992=[]\n",
    "for i in range(12):\n",
    "    li = basinlfc(s1992, month=i)\n",
    "    lfc1992.insert(i, li)"
   ]
  },
  {
   "cell_type": "code",
   "execution_count": null,
   "metadata": {
    "collapsed": true
   },
   "outputs": [],
   "source": [
    "lfc1993=[]\n",
    "for i in range(12):\n",
    "    li = basinlfc(s1993, month=i)\n",
    "    lfc1993.insert(i, li)"
   ]
  },
  {
   "cell_type": "code",
   "execution_count": null,
   "metadata": {
    "collapsed": true
   },
   "outputs": [],
   "source": [
    "lfc1994=[]\n",
    "for i in range(12):\n",
    "    li = basinlfc(s1994, month=i)\n",
    "    lfc1994.insert(i, li)"
   ]
  },
  {
   "cell_type": "code",
   "execution_count": null,
   "metadata": {
    "collapsed": true
   },
   "outputs": [],
   "source": [
    "lfc1995=[]\n",
    "for i in range(12):\n",
    "    li = basinlfc(s1995, month=i)\n",
    "    lfc1995.insert(i, li)"
   ]
  },
  {
   "cell_type": "code",
   "execution_count": null,
   "metadata": {
    "collapsed": true
   },
   "outputs": [],
   "source": [
    "lfc1996=[]\n",
    "for i in range(12):\n",
    "    li = basinlfc(s1996, month=i)\n",
    "    lfc1996.insert(i, li)"
   ]
  },
  {
   "cell_type": "code",
   "execution_count": null,
   "metadata": {
    "collapsed": true
   },
   "outputs": [],
   "source": [
    "lfc1997=[]\n",
    "for i in range(12):\n",
    "    li = basinlfc(s1997, month=i)\n",
    "    lfc1997.insert(i, li)"
   ]
  },
  {
   "cell_type": "code",
   "execution_count": null,
   "metadata": {
    "collapsed": true
   },
   "outputs": [],
   "source": [
    "lfc1998=[]\n",
    "for i in range(12):\n",
    "    li = basinlfc(s1998, month=i)\n",
    "    lfc1998.insert(i, li)"
   ]
  },
  {
   "cell_type": "code",
   "execution_count": null,
   "metadata": {
    "collapsed": true
   },
   "outputs": [],
   "source": [
    "lfc1999=[]\n",
    "for i in range(12):\n",
    "    li = basinlfc(s1999, month=i)\n",
    "    lfc1999.insert(i, li)"
   ]
  },
  {
   "cell_type": "code",
   "execution_count": null,
   "metadata": {
    "collapsed": true
   },
   "outputs": [],
   "source": [
    "lfc2000=[]\n",
    "for i in range(12):\n",
    "    li = basinlfc(s2000, month=i)\n",
    "    lfc2000.insert(i, li)"
   ]
  },
  {
   "cell_type": "code",
   "execution_count": null,
   "metadata": {
    "collapsed": true
   },
   "outputs": [],
   "source": [
    "lfc2001=[]\n",
    "for i in range(12):\n",
    "    li = basinlfc(s2001, month=i)\n",
    "    lfc2001.insert(i, li)"
   ]
  },
  {
   "cell_type": "code",
   "execution_count": null,
   "metadata": {
    "collapsed": true
   },
   "outputs": [],
   "source": [
    "lfc2002=[]\n",
    "for i in range(12):\n",
    "    li = basinlfc(s2002, month=i)\n",
    "    lfc2002.insert(i, li)"
   ]
  },
  {
   "cell_type": "code",
   "execution_count": null,
   "metadata": {
    "collapsed": true
   },
   "outputs": [],
   "source": [
    "lfc2003=[]\n",
    "for i in range(12):\n",
    "    li = basinlfc(s2003, month=i)\n",
    "    lfc2003.insert(i, li)"
   ]
  },
  {
   "cell_type": "code",
   "execution_count": null,
   "metadata": {
    "collapsed": true
   },
   "outputs": [],
   "source": [
    "lfc2004=[]\n",
    "for i in range(12):\n",
    "    li = basinlfc(s2004, month=i)\n",
    "    lfc2004.insert(i, li)"
   ]
  },
  {
   "cell_type": "code",
   "execution_count": null,
   "metadata": {
    "collapsed": true
   },
   "outputs": [],
   "source": [
    "lfc2005=[]\n",
    "for i in range(12):\n",
    "    li = basinlfc(s2005, month=i)\n",
    "    lfc2005.insert(i, li)"
   ]
  },
  {
   "cell_type": "code",
   "execution_count": null,
   "metadata": {
    "collapsed": true
   },
   "outputs": [],
   "source": [
    "lfc2006=[]\n",
    "for i in range(12):\n",
    "    li = basinlfc(s2006, month=i)\n",
    "    lfc2006.insert(i, li)"
   ]
  },
  {
   "cell_type": "code",
   "execution_count": null,
   "metadata": {
    "collapsed": true
   },
   "outputs": [],
   "source": [
    "lfc2007=[]\n",
    "for i in range(12):\n",
    "    li = basinlfc(s2007, month=i)\n",
    "    lfc2007.insert(i, li)"
   ]
  },
  {
   "cell_type": "code",
   "execution_count": null,
   "metadata": {
    "collapsed": true
   },
   "outputs": [],
   "source": [
    "lfc2008=[]\n",
    "for i in range(12):\n",
    "    li = basinlfc(s2008, month=i)\n",
    "    lfc2008.insert(i, li)"
   ]
  },
  {
   "cell_type": "code",
   "execution_count": null,
   "metadata": {
    "collapsed": true
   },
   "outputs": [],
   "source": [
    "lfc2009=[]\n",
    "for i in range(12):\n",
    "    li = basinlfc(s2009, month=i)\n",
    "    lfc2009.insert(i, li)"
   ]
  },
  {
   "cell_type": "code",
   "execution_count": null,
   "metadata": {
    "collapsed": true
   },
   "outputs": [],
   "source": [
    "lfc2010=[]\n",
    "for i in range(12):\n",
    "    li = basinlfc(s2010, month=i)\n",
    "    lfc2010.insert(i, li)"
   ]
  },
  {
   "cell_type": "code",
   "execution_count": null,
   "metadata": {
    "collapsed": true
   },
   "outputs": [],
   "source": [
    "lfc2011=[]\n",
    "for i in range(12):\n",
    "    li = basinlfc(s2011, month=i)\n",
    "    lfc2011.insert(i, li)"
   ]
  },
  {
   "cell_type": "code",
   "execution_count": null,
   "metadata": {
    "collapsed": true
   },
   "outputs": [],
   "source": [
    "lfc2012=[]\n",
    "for i in range(12):\n",
    "    li = basinlfc(s2012, month=i)\n",
    "    lfc2012.insert(i, li)"
   ]
  },
  {
   "cell_type": "code",
   "execution_count": null,
   "metadata": {
    "collapsed": true
   },
   "outputs": [],
   "source": [
    "lfc2013=[]\n",
    "for i in range(12):\n",
    "    li = basinlfc(s2013, month=i)\n",
    "    lfc2013.insert(i, li)"
   ]
  },
  {
   "cell_type": "code",
   "execution_count": null,
   "metadata": {
    "collapsed": true
   },
   "outputs": [],
   "source": [
    "lfc2014=[]\n",
    "for i in range(12):\n",
    "    li = basinlfc(s2014, month=i)\n",
    "    lfc2014.insert(i, li)"
   ]
  },
  {
   "cell_type": "code",
   "execution_count": 18,
   "metadata": {},
   "outputs": [
    {
     "name": "stderr",
     "output_type": "stream",
     "text": [
      "/anaconda2/lib/python2.7/site-packages/ipykernel_launcher.py:5: RuntimeWarning: invalid value encountered in less\n",
      "  \"\"\"\n"
     ]
    }
   ],
   "source": [
    "lfc2015=[]\n",
    "for i in range(12):\n",
    "    li = basinlfc(s2015, month=i)\n",
    "    lfc2015.insert(i, li)"
   ]
  },
  {
   "cell_type": "code",
   "execution_count": 23,
   "metadata": {
    "collapsed": true
   },
   "outputs": [],
   "source": [
    "basin=[]\n",
    "for i in range(23):\n",
    "    b=basinlfc[i]\n",
    "    basin.insert(i,b)\n",
    "basin.append(lfc2015)\n",
    "np.save('basinlfc207',basin)"
   ]
  },
  {
   "cell_type": "code",
   "execution_count": null,
   "metadata": {
    "collapsed": true
   },
   "outputs": [],
   "source": [
    "months = ['January', 'February', 'March', 'April', 'May', 'June', 'July', 'August', 'September', 'October', 'November', 'December']"
   ]
  },
  {
   "cell_type": "code",
   "execution_count": null,
   "metadata": {
    "collapsed": true
   },
   "outputs": [],
   "source": [
    "lfcall = [lfc1992, lfc1993, lfc1994, lfc1995, lfc1996, lfc1997, lfc1998, lfc1999, lfc2000, \n",
    "          lfc2001, lfc2002, lfc2003, lfc2004, lfc2005, lfc2006, lfc2007, lfc2008, lfc2009,\n",
    "          lfc2010, lfc2011, lfc2012, lfc2013, lfc2014]"
   ]
  },
  {
   "cell_type": "code",
   "execution_count": null,
   "metadata": {
    "collapsed": true
   },
   "outputs": [],
   "source": [
    "n = 23\n",
    "colors = plt.cm.rainbow(np.linspace(0,1,n))"
   ]
  },
  {
   "cell_type": "code",
   "execution_count": null,
   "metadata": {
    "collapsed": true
   },
   "outputs": [],
   "source": [
    "months = ['January', 'February', 'March', 'April', 'May', 'June', 'July', 'August', 'September', 'October', 'November', 'December']"
   ]
  },
  {
   "cell_type": "markdown",
   "metadata": {},
   "source": [
    "# plots"
   ]
  },
  {
   "cell_type": "code",
   "execution_count": null,
   "metadata": {
    "collapsed": true
   },
   "outputs": [],
   "source": [
    "plt.figure(figsize=(10,10))\n",
    "for i in range(len(basinlfc207)):\n",
    "    plt.plot(basinlfc207[i], label=str(i+1992), color=colors[i])\n",
    "plt.legend(loc='best')\n",
    "plt.title('Monthly LFC in Mixed Layer from 1992 to 2014', fontsize=20)\n",
    "plt.ylabel('LFC/m$^{3}$', fontsize=18)\n",
    "plt.xlabel('Month', fontsize=18)\n",
    "plt.xticks(range(12), months, fontsize = 14, rotation=60)\n",
    "plt.show()"
   ]
  },
  {
   "cell_type": "code",
   "execution_count": null,
   "metadata": {
    "collapsed": true
   },
   "outputs": [],
   "source": [
    "plt.figure(figsize=(10,8))\n",
    "for i in range(len(basinlfcinterior)):\n",
    "    plt.plot(basinlfcinterior[i], label=str(i+1992), color=colors[i])\n",
    "plt.legend(loc='best')\n",
    "plt.title('Monthly LFC in Ocean Interior from 1992 to 2014', fontsize=20)\n",
    "plt.ylabel('LFC/m$^{3}$', fontsize=18)\n",
    "plt.xlabel('Month', fontsize=18)\n",
    "plt.xticks(range(12), months, fontsize = 14, rotation=60)\n",
    "plt.yticks(fontsize=14)\n",
    "plt.show()"
   ]
  },
  {
   "cell_type": "code",
   "execution_count": null,
   "metadata": {
    "collapsed": true
   },
   "outputs": [],
   "source": [
    "septembers207 = []\n",
    "for i in range(len(lfcall)):\n",
    "    si = lfcall[i][8]\n",
    "    septembers207.insert(i, si)"
   ]
  },
  {
   "cell_type": "code",
   "execution_count": null,
   "metadata": {
    "collapsed": true
   },
   "outputs": [],
   "source": [
    "np.shape(lfcall)#.shape"
   ]
  },
  {
   "cell_type": "code",
   "execution_count": null,
   "metadata": {
    "collapsed": true
   },
   "outputs": [],
   "source": [
    "# np.shape(allsalt)"
   ]
  },
  {
   "cell_type": "code",
   "execution_count": null,
   "metadata": {
    "collapsed": true
   },
   "outputs": [],
   "source": [
    "# newZ"
   ]
  },
  {
   "cell_type": "code",
   "execution_count": null,
   "metadata": {
    "collapsed": true
   },
   "outputs": [],
   "source": [
    "np.shape(allsalt[0])"
   ]
  },
  {
   "cell_type": "code",
   "execution_count": null,
   "metadata": {
    "collapsed": true
   },
   "outputs": [],
   "source": [
    "lfcall1056 = []\n",
    "for j in range(len(allsalt)):\n",
    "    lfcyear = []\n",
    "    for i in range(12):\n",
    "        li = basinlfc(allsalt[j], month=i, depth=29)\n",
    "        lfcyear.insert(i, li)\n",
    "    lfcall1056.insert(j, lfcyear)"
   ]
  },
  {
   "cell_type": "code",
   "execution_count": null,
   "metadata": {
    "collapsed": true
   },
   "outputs": [],
   "source": [
    "septembermap1056 = []\n",
    "for i in range(len(allsalt)):\n",
    "    si = lfc(allsalt[i], month=8, depth=29)\n",
    "    septembermap1056.insert(i, si)"
   ]
  },
  {
   "cell_type": "code",
   "execution_count": null,
   "metadata": {
    "collapsed": true
   },
   "outputs": [],
   "source": [
    "np.save('sepmap1056', septembermap1056)"
   ]
  },
  {
   "cell_type": "code",
   "execution_count": null,
   "metadata": {
    "collapsed": true
   },
   "outputs": [],
   "source": [
    "aprilmap1056 = []\n",
    "for i in range(len(allsalt)):\n",
    "    si = lfc(allsalt[i], month=3, depth=29)\n",
    "    aprilmap1056.insert(i, si)\n",
    "    \n",
    "np.save('aprilmap1056', aprilmap1056)\n",
    "\n",
    "# marchmap207 = []\n",
    "# for i in range(len(allsalt)):\n",
    "#     mi = lfc(allsalt[i], month=2, depth=17)\n",
    "#     marchmap207.insert(i, si)\n",
    "# np.save('marchmap207', marchmap207)"
   ]
  },
  {
   "cell_type": "code",
   "execution_count": null,
   "metadata": {
    "collapsed": true
   },
   "outputs": [],
   "source": [
    "septembermap207 = []\n",
    "for i in range(len(allsalt)):\n",
    "    si = lfc(allsalt[i], month=8, depth=17)\n",
    "    septembermap207.insert(i, si)\n",
    "    "
   ]
  },
  {
   "cell_type": "code",
   "execution_count": null,
   "metadata": {
    "collapsed": true
   },
   "outputs": [],
   "source": [
    "np.save('sepmap207', septembermap207)"
   ]
  },
  {
   "cell_type": "code",
   "execution_count": null,
   "metadata": {
    "collapsed": true
   },
   "outputs": [],
   "source": [
    "septembermapinterior = []\n",
    "for i in range(len(septembermap207)):\n",
    "    di = np.subtract(septembermap1056[i], septembermap207[i])\n",
    "    septembermapinterior.insert(i, di)"
   ]
  },
  {
   "cell_type": "code",
   "execution_count": null,
   "metadata": {
    "collapsed": true
   },
   "outputs": [],
   "source": [
    "marchmapinterior = []\n",
    "for i in range(len(marchmap207)):\n",
    "    di = np.subtract(marchmap1056[i], marchmap207[i])\n",
    "    marchmapinterior.insert(i, di)"
   ]
  },
  {
   "cell_type": "code",
   "execution_count": null,
   "metadata": {
    "collapsed": true
   },
   "outputs": [],
   "source": [
    "septembermap207 = np.load('sepmap207.npy')"
   ]
  },
  {
   "cell_type": "code",
   "execution_count": null,
   "metadata": {
    "collapsed": true
   },
   "outputs": [],
   "source": [
    "aprilmap207 = []\n",
    "for i in range(len(allsalt)):\n",
    "    mi = lfc(allsalt[i], month=3, depth=17)\n",
    "    aprilmap207.insert(i, mi)\n",
    "np.save('aprilmap207', aprilmap207)\n",
    "\n",
    "# aprilmap1056 = []\n",
    "# for i in range(len(allsalt)):\n",
    "#     si = lfc(allsalt[i], month=3, depth=29)\n",
    "#     aprilmap1056.insert(i, si)\n",
    "    \n",
    "# np.save('aprilmap1056', aprilmap1056)"
   ]
  },
  {
   "cell_type": "code",
   "execution_count": null,
   "metadata": {
    "collapsed": true
   },
   "outputs": [],
   "source": [
    "aprilmapinterior = np.subtract(aprilmap1056, aprilmap207)"
   ]
  },
  {
   "cell_type": "code",
   "execution_count": null,
   "metadata": {
    "collapsed": true
   },
   "outputs": [],
   "source": [
    "levels = np.arange(-3.5, 27.1, 0.1)\n",
    "# levels"
   ]
  },
  {
   "cell_type": "code",
   "execution_count": null,
   "metadata": {
    "collapsed": true
   },
   "outputs": [],
   "source": [
    "fig=plt.figure(figsize=(14,17))\n",
    "for i in range(len(septembermap207)):\n",
    "    ax=fig.add_subplot(5,5,i+1)\n",
    "    ax.set_title(str(1992+i))\n",
    "    map = Basemap(projection='npstere',lon_0=0.,boundinglat=60.,round=True)\n",
    "    map.drawcountries(linewidth=1)\n",
    "    map.drawcoastlines(linewidth=1)\n",
    "    lon1,lat1 = np.meshgrid(lonEnew,latENP)\n",
    "    x,y = map(lon1,lat1)\n",
    "    map.contourf(x,y, septembermap207[i], levels=levels, cmap='viridis')\n",
    "    cbar=map.colorbar(location='bottom', pad='5%', label='m')\n",
    "    tick_locator = ticker.MaxNLocator(nbins=8)\n",
    "    cbar.locator = tick_locator\n",
    "    cbar.update_ticks()\n",
    "\n",
    "plt.tight_layout()\n",
    "plt.subplots_adjust(top=0.93)\n",
    "fig.suptitle(\"September Mixed Layer Liquid Freshwater Content Between 1992 and 2014\", fontsize=22)\n",
    "plt.show()"
   ]
  },
  {
   "cell_type": "code",
   "execution_count": null,
   "metadata": {
    "collapsed": true
   },
   "outputs": [],
   "source": [
    "np.arange(0,8,1)"
   ]
  },
  {
   "cell_type": "code",
   "execution_count": null,
   "metadata": {
    "collapsed": true
   },
   "outputs": [],
   "source": [
    "np.nanmax(septembermap207)"
   ]
  },
  {
   "cell_type": "code",
   "execution_count": null,
   "metadata": {
    "collapsed": true
   },
   "outputs": [],
   "source": [
    "levels2 = np.arange(-10, 21, 0.1)\n",
    "# levels2 = np.arange(-5, 27.1, 0.1)"
   ]
  },
  {
   "cell_type": "code",
   "execution_count": null,
   "metadata": {
    "collapsed": true
   },
   "outputs": [],
   "source": [
    "fig=plt.figure(figsize=(14,17))\n",
    "for i in range(len(aprilmap207)):\n",
    "    ax=fig.add_subplot(5,5,i+1)\n",
    "    ax.set_title(str(1992+i))\n",
    "    map = Basemap(projection='npstere',lon_0=0.,boundinglat=60.,round=True)\n",
    "    map.drawcountries(linewidth=1)\n",
    "    map.drawcoastlines(linewidth=1)\n",
    "    lon1,lat1 = np.meshgrid(lonEnew,latENP)\n",
    "    x,y = map(lon1,lat1)\n",
    "    map.contourf(x,y, aprilmap207[i], levels=levels2, cmap='viridis')\n",
    "    cbar=map.colorbar(location='bottom', pad='5%', label='m')\n",
    "    tick_locator = ticker.MaxNLocator(nbins=8)\n",
    "    cbar.locator = tick_locator\n",
    "    cbar.update_ticks()\n",
    "\n",
    "plt.tight_layout()\n",
    "\n",
    "plt.subplots_adjust(top=0.93)\n",
    "\n",
    "fig.suptitle(\"April Mixed Layer Liquid Freshwater Content Between 1992 and 2014\", fontsize=22)\n",
    "\n",
    "plt.show()"
   ]
  },
  {
   "cell_type": "code",
   "execution_count": null,
   "metadata": {
    "collapsed": true
   },
   "outputs": [],
   "source": [
    "levels3 = np.arange(-12, 9, 0.1)"
   ]
  },
  {
   "cell_type": "code",
   "execution_count": null,
   "metadata": {
    "collapsed": true
   },
   "outputs": [],
   "source": [
    "fig=plt.figure(figsize=(14,17))\n",
    "for i in range(len(aprilmap207)):\n",
    "    ax=fig.add_subplot(5,5,i+1)\n",
    "    ax.set_title(str(1992+i))\n",
    "    map = Basemap(projection='npstere',lon_0=0.,boundinglat=60.,round=True)\n",
    "    map.drawcountries(linewidth=1)\n",
    "    map.drawcoastlines(linewidth=1)\n",
    "    lon1,lat1 = np.meshgrid(lonEnew,latENP)\n",
    "    x,y = map(lon1,lat1)\n",
    "    map.contourf(x,y, aprilmapinterior[i], levels=levels3, cmap='viridis')\n",
    "    cbar=map.colorbar(location='bottom', pad='5%', label='m')\n",
    "    tick_locator = ticker.MaxNLocator(nbins=7)\n",
    "    cbar.locator = tick_locator\n",
    "    cbar.update_ticks()\n",
    "\n",
    "plt.tight_layout()\n",
    "\n",
    "plt.subplots_adjust(top=0.93)\n",
    "\n",
    "fig.suptitle(\"April Ocean Interior Liquid Freshwater Content Between 1992 and 2014\", fontsize=22)\n",
    "\n",
    "plt.show()"
   ]
  },
  {
   "cell_type": "code",
   "execution_count": null,
   "metadata": {
    "collapsed": true
   },
   "outputs": [],
   "source": [
    "levels1 = np.arange(-12, 9, 0.1)"
   ]
  },
  {
   "cell_type": "code",
   "execution_count": null,
   "metadata": {
    "collapsed": true
   },
   "outputs": [],
   "source": [
    "fig=plt.figure(figsize=(14,17))\n",
    "for i in range(len(aprilmap207)):\n",
    "    ax=fig.add_subplot(5,5,i+1)\n",
    "    ax.set_title(str(1992+i))\n",
    "    map = Basemap(projection='npstere',lon_0=0.,boundinglat=60.,round=True)\n",
    "    map.drawcountries(linewidth=1)\n",
    "    map.drawcoastlines(linewidth=1)\n",
    "    lon1,lat1 = np.meshgrid(lonEnew,latENP)\n",
    "    x,y = map(lon1,lat1)\n",
    "    map.contourf(x,y, septembermapinterior[i], levels=levels1, cmap='viridis')\n",
    "    cbar=map.colorbar(location='bottom', pad='5%', label='m')\n",
    "    tick_locator = ticker.MaxNLocator(nbins=7)\n",
    "    cbar.locator = tick_locator\n",
    "    cbar.update_ticks()\n",
    "\n",
    "plt.tight_layout()\n",
    "\n",
    "plt.subplots_adjust(top=0.93)\n",
    "\n",
    "fig.suptitle(\"September Ocean Interior Liquid Freshwater Content Between 1992 and 2014\", fontsize=22)\n",
    "\n",
    "plt.show()"
   ]
  },
  {
   "cell_type": "code",
   "execution_count": null,
   "metadata": {
    "collapsed": true
   },
   "outputs": [],
   "source": [
    "ticks1 = np.arange(-7, 13, 2)"
   ]
  },
  {
   "cell_type": "code",
   "execution_count": null,
   "metadata": {
    "collapsed": true
   },
   "outputs": [],
   "source": [
    "ticks1"
   ]
  },
  {
   "cell_type": "code",
   "execution_count": null,
   "metadata": {
    "collapsed": true
   },
   "outputs": [],
   "source": [
    "levels3 = np.arange(-4,5,0.1)"
   ]
  },
  {
   "cell_type": "code",
   "execution_count": null,
   "metadata": {
    "collapsed": true
   },
   "outputs": [],
   "source": [
    "fig=plt.figure(figsize=(17,17))\n",
    "ax=fig.add_subplot(5,5,1)\n",
    "ax.set_title('1992')\n",
    "map = Basemap(projection='npstere',lon_0=0.,boundinglat=60.,round=True)\n",
    "map.drawcountries(linewidth=1)\n",
    "map.drawcoastlines(linewidth=1)\n",
    "lon1,lat1 = np.meshgrid(lonEnew,latENP)\n",
    "x,y = map(lon1,lat1)\n",
    "map.contourf(x,y, marchmapinterior[0], levels=levels3, cmap='viridis')\n",
    "cbar=map.colorbar(location='bottom', pad='5%', label='m')\n",
    "tick_locator = ticker.MaxNLocator(nbins=8)\n",
    "cbar.locator = tick_locator\n",
    "cbar.update_ticks()\n",
    "\n",
    "ax=fig.add_subplot(5,5,2)\n",
    "ax.set_title('1993')\n",
    "map = Basemap(projection='npstere',lon_0=0.,boundinglat=60.,round=True)\n",
    "map.drawcountries(linewidth=1)\n",
    "map.drawcoastlines(linewidth=1)\n",
    "lon1,lat1 = np.meshgrid(lonEnew,latENP)\n",
    "x,y = map(lon1,lat1)\n",
    "map.contourf(x,y, marchmapinterior[1], levels=levels3, cmap='viridis')\n",
    "cbar=map.colorbar(location='bottom', pad='5%', label='m')\n",
    "tick_locator = ticker.MaxNLocator(nbins=8)\n",
    "cbar.locator = tick_locator\n",
    "cbar.update_ticks()\n",
    "\n",
    "ax=fig.add_subplot(5,5,3)\n",
    "ax.set_title('1994')\n",
    "map = Basemap(projection='npstere',lon_0=0.,boundinglat=60,round=True)\n",
    "map.drawcountries(linewidth=1.0)\n",
    "map.drawcoastlines(linewidth=1.0)\n",
    "lon2,lat2 = np.meshgrid(lonEnew,latENP)\n",
    "x,y = map(lon2,lat2)\n",
    "map.contourf(lon2,lat2, marchmapinterior[2], latlon='True', levels = levels3, cmap='viridis')\n",
    "cbar=map.colorbar(location='bottom', pad='5%', label='m')\n",
    "tick_locator = ticker.MaxNLocator(nbins=8)\n",
    "cbar.locator = tick_locator\n",
    "cbar.update_ticks()\n",
    "\n",
    "ax=fig.add_subplot(5,5,4)\n",
    "ax.set_title('1995')\n",
    "map = Basemap(projection='npstere',lon_0=0.,boundinglat=60,round=True)\n",
    "map.drawcountries(linewidth=1.0)\n",
    "map.drawcoastlines(linewidth=1.0)\n",
    "lon2,lat2 = np.meshgrid(lonEnew,latENP)\n",
    "x,y = map(lon2,lat2)\n",
    "map.contourf(lon2,lat2, marchmapinterior[3], latlon='True', levels = levels3, cmap='viridis')\n",
    "cbar=map.colorbar(location='bottom', pad='5%', label='m')\n",
    "tick_locator = ticker.MaxNLocator(nbins=8)\n",
    "cbar.locator = tick_locator\n",
    "cbar.update_ticks()\n",
    "\n",
    "ax=fig.add_subplot(5,5,5)\n",
    "ax.set_title('1996')\n",
    "map = Basemap(projection='npstere',lon_0=0.,boundinglat=60,round=True)\n",
    "map.drawcountries(linewidth=1.0)\n",
    "map.drawcoastlines(linewidth=1.0)\n",
    "lon2,lat2 = np.meshgrid(lonEnew,latENP)\n",
    "x,y = map(lon2,lat2)\n",
    "map.contourf(lon2,lat2, marchmapinterior[4], latlon='True', levels = levels3, cmap='viridis')\n",
    "cbar=map.colorbar(location='bottom', pad='5%', label='m')\n",
    "tick_locator = ticker.MaxNLocator(nbins=8)\n",
    "cbar.locator = tick_locator\n",
    "cbar.update_ticks()\n",
    "\n",
    "ax=fig.add_subplot(5,5,6)\n",
    "ax.set_title('1997')\n",
    "map = Basemap(projection='npstere',lon_0=0.,boundinglat=60,round=True)\n",
    "map.drawcountries(linewidth=1.0)\n",
    "map.drawcoastlines(linewidth=1.0)\n",
    "lon2,lat2 = np.meshgrid(lonEnew,latENP)\n",
    "x,y = map(lon2,lat2)\n",
    "map.contourf(lon2,lat2, marchmapinterior[5], latlon='True', levels = levels3, cmap='viridis')\n",
    "cbar=map.colorbar(location='bottom', pad='5%', label='m')\n",
    "tick_locator = ticker.MaxNLocator(nbins=8)\n",
    "cbar.locator = tick_locator\n",
    "cbar.update_ticks()\n",
    "\n",
    "ax=fig.add_subplot(5,5,7)\n",
    "ax.set_title('1998')\n",
    "map = Basemap(projection='npstere',lon_0=0.,boundinglat=60,round=True)\n",
    "map.drawcountries(linewidth=1.0)\n",
    "map.drawcoastlines(linewidth=1.0)\n",
    "lon2,lat2 = np.meshgrid(lonEnew,latENP)\n",
    "x,y = map(lon2,lat2)\n",
    "map.contourf(lon2,lat2, marchmapinterior[6], latlon='True', levels = levels3, cmap='viridis')\n",
    "cbar=map.colorbar(location='bottom', pad='5%', label='m')\n",
    "tick_locator = ticker.MaxNLocator(nbins=8)\n",
    "cbar.locator = tick_locator\n",
    "cbar.update_ticks()\n",
    "\n",
    "ax=fig.add_subplot(5,5,8)\n",
    "ax.set_title('1999')\n",
    "map = Basemap(projection='npstere',lon_0=0.,boundinglat=60,round=True)\n",
    "map.drawcountries(linewidth=1.0)\n",
    "map.drawcoastlines(linewidth=1.0)\n",
    "lon2,lat2 = np.meshgrid(lonEnew,latENP)\n",
    "x,y = map(lon2,lat2)\n",
    "map.contourf(lon2,lat2, marchmapinterior[7], latlon='True', levels = levels3, cmap='viridis')\n",
    "cbar=map.colorbar(location='bottom', pad='5%', label='m')\n",
    "tick_locator = ticker.MaxNLocator(nbins=8)\n",
    "cbar.locator = tick_locator\n",
    "cbar.update_ticks()\n",
    "\n",
    "ax=fig.add_subplot(5,5,9)\n",
    "ax.set_title('2000')\n",
    "map = Basemap(projection='npstere',lon_0=0.,boundinglat=60,round=True)\n",
    "map.drawcountries(linewidth=1.0)\n",
    "map.drawcoastlines(linewidth=1.0)\n",
    "lon2,lat2 = np.meshgrid(lonEnew,latENP)\n",
    "x,y = map(lon2,lat2)\n",
    "map.contourf(lon2,lat2, marchmapinterior[8], latlon='True', levels = levels3, cmap='viridis')\n",
    "cbar=map.colorbar(location='bottom', pad='5%', label='m')\n",
    "tick_locator = ticker.MaxNLocator(nbins=8)\n",
    "cbar.locator = tick_locator\n",
    "cbar.update_ticks()\n",
    "\n",
    "ax=fig.add_subplot(5,5,10)\n",
    "ax.set_title('2001')\n",
    "map = Basemap(projection='npstere',lon_0=0.,boundinglat=60,round=True)\n",
    "map.drawcountries(linewidth=1.0)\n",
    "map.drawcoastlines(linewidth=1.0)\n",
    "lon2,lat2 = np.meshgrid(lonEnew,latENP)\n",
    "x,y = map(lon2,lat2)\n",
    "map.contourf(lon2,lat2, marchmapinterior[9], latlon='True', levels = levels3, cmap='viridis')\n",
    "cbar=map.colorbar(location='bottom', pad='5%', label='m')\n",
    "tick_locator = ticker.MaxNLocator(nbins=8)\n",
    "cbar.locator = tick_locator\n",
    "cbar.update_ticks()\n",
    "\n",
    "ax=fig.add_subplot(5,5,11)\n",
    "ax.set_title('2002')\n",
    "map = Basemap(projection='npstere',lon_0=0.,boundinglat=60,round=True)\n",
    "map.drawcountries(linewidth=1.0)\n",
    "map.drawcoastlines(linewidth=1.0)\n",
    "lon2,lat2 = np.meshgrid(lonEnew,latENP)\n",
    "x,y = map(lon2,lat2)\n",
    "map.contourf(lon2,lat2, marchmapinterior[10], latlon='True', levels = levels3, cmap='viridis')\n",
    "cbar=map.colorbar(location='bottom', pad='5%', label='m')\n",
    "tick_locator = ticker.MaxNLocator(nbins=8)\n",
    "cbar.locator = tick_locator\n",
    "cbar.update_ticks()\n",
    "\n",
    "ax=fig.add_subplot(5,5,12)\n",
    "ax.set_title('2003')\n",
    "map = Basemap(projection='npstere',lon_0=0.,boundinglat=60,round=True)\n",
    "map.drawcountries(linewidth=1.0)\n",
    "map.drawcoastlines(linewidth=1.0)\n",
    "lon2,lat2 = np.meshgrid(lonEnew,latENP)\n",
    "x,y = map(lon2,lat2)\n",
    "map.contourf(lon2,lat2, marchmapinterior[11], latlon='True', levels = levels3, cmap='viridis')\n",
    "cbar=map.colorbar(location='bottom', pad='5%', label='m')\n",
    "tick_locator = ticker.MaxNLocator(nbins=8)\n",
    "cbar.locator = tick_locator\n",
    "cbar.update_ticks()\n",
    "\n",
    "ax=fig.add_subplot(5,5,13)\n",
    "ax.set_title('2004')\n",
    "map = Basemap(projection='npstere',lon_0=0.,boundinglat=60.,round=True)\n",
    "map.drawcountries(linewidth=1)\n",
    "map.drawcoastlines(linewidth=1)\n",
    "lon1,lat1 = np.meshgrid(lonEnew,latENP)\n",
    "x,y = map(lon1,lat1)\n",
    "map.contourf(x,y, marchmapinterior[12], levels=levels3, cmap='viridis')\n",
    "cbar=map.colorbar(location='bottom', pad='5%', label='m')\n",
    "tick_locator = ticker.MaxNLocator(nbins=8)\n",
    "cbar.locator = tick_locator\n",
    "cbar.update_ticks()\n",
    "\n",
    "ax=fig.add_subplot(5,5,14)\n",
    "ax.set_title('2005')\n",
    "map = Basemap(projection='npstere',lon_0=0.,boundinglat=60.,round=True)\n",
    "map.drawcountries(linewidth=1)\n",
    "map.drawcoastlines(linewidth=1)\n",
    "lon1,lat1 = np.meshgrid(lonEnew,latENP)\n",
    "x,y = map(lon1,lat1)\n",
    "map.contourf(x,y, marchmapinterior[13], levels=levels3, cmap='viridis')\n",
    "cbar=map.colorbar(location='bottom', pad='5%', label='m')\n",
    "tick_locator = ticker.MaxNLocator(nbins=8)\n",
    "cbar.locator = tick_locator\n",
    "cbar.update_ticks()\n",
    "\n",
    "ax=fig.add_subplot(5,5,15)\n",
    "ax.set_title('2006')\n",
    "map = Basemap(projection='npstere',lon_0=0.,boundinglat=60,round=True)\n",
    "map.drawcountries(linewidth=1.0)\n",
    "map.drawcoastlines(linewidth=1.0)\n",
    "lon2,lat2 = np.meshgrid(lonEnew,latENP)\n",
    "x,y = map(lon2,lat2)\n",
    "map.contourf(lon2,lat2, marchmapinterior[14], latlon='True', levels = levels3, cmap='viridis')\n",
    "cbar=map.colorbar(location='bottom', pad='5%', label='m')\n",
    "tick_locator = ticker.MaxNLocator(nbins=8)\n",
    "cbar.locator = tick_locator\n",
    "cbar.update_ticks()\n",
    "\n",
    "ax=fig.add_subplot(5,5,16)\n",
    "ax.set_title('2007')\n",
    "map = Basemap(projection='npstere',lon_0=0.,boundinglat=60,round=True)\n",
    "map.drawcountries(linewidth=1.0)\n",
    "map.drawcoastlines(linewidth=1.0)\n",
    "lon2,lat2 = np.meshgrid(lonEnew,latENP)\n",
    "x,y = map(lon2,lat2)\n",
    "map.contourf(lon2,lat2, marchmapinterior[15], latlon='True', levels = levels3, cmap='viridis')\n",
    "cbar=map.colorbar(location='bottom', pad='5%', label='m')\n",
    "tick_locator = ticker.MaxNLocator(nbins=8)\n",
    "cbar.locator = tick_locator\n",
    "cbar.update_ticks()\n",
    "\n",
    "ax=fig.add_subplot(5,5,17)\n",
    "ax.set_title('2008')\n",
    "map = Basemap(projection='npstere',lon_0=0.,boundinglat=60,round=True)\n",
    "map.drawcountries(linewidth=1.0)\n",
    "map.drawcoastlines(linewidth=1.0)\n",
    "lon2,lat2 = np.meshgrid(lonEnew,latENP)\n",
    "x,y = map(lon2,lat2)\n",
    "map.contourf(lon2,lat2, marchmapinterior[16], latlon='True', levels = levels3, cmap='viridis')\n",
    "cbar=map.colorbar(location='bottom', pad='5%', label='m')\n",
    "tick_locator = ticker.MaxNLocator(nbins=8)\n",
    "cbar.locator = tick_locator\n",
    "cbar.update_ticks()\n",
    "\n",
    "ax=fig.add_subplot(5,5,18)\n",
    "ax.set_title('2009')\n",
    "map = Basemap(projection='npstere',lon_0=0.,boundinglat=60,round=True)\n",
    "map.drawcountries(linewidth=1.0)\n",
    "map.drawcoastlines(linewidth=1.0)\n",
    "lon2,lat2 = np.meshgrid(lonEnew,latENP)\n",
    "x,y = map(lon2,lat2)\n",
    "map.contourf(lon2,lat2, marchmapinterior[17], latlon='True', levels = levels3, cmap='viridis')\n",
    "cbar=map.colorbar(location='bottom', pad='5%', label='m')\n",
    "tick_locator = ticker.MaxNLocator(nbins=8)\n",
    "cbar.locator = tick_locator\n",
    "cbar.update_ticks()\n",
    "\n",
    "ax=fig.add_subplot(5,5,19)\n",
    "ax.set_title('2010')\n",
    "map = Basemap(projection='npstere',lon_0=0.,boundinglat=60,round=True)\n",
    "map.drawcountries(linewidth=1.0)\n",
    "map.drawcoastlines(linewidth=1.0)\n",
    "lon2,lat2 = np.meshgrid(lonEnew,latENP)\n",
    "x,y = map(lon2,lat2)\n",
    "map.contourf(lon2,lat2, marchmapinterior[18], latlon='True', levels = levels3, cmap='viridis')\n",
    "cbar=map.colorbar(location='bottom', pad='5%', label='m')\n",
    "tick_locator = ticker.MaxNLocator(nbins=8)\n",
    "cbar.locator = tick_locator\n",
    "cbar.update_ticks()\n",
    "\n",
    "ax=fig.add_subplot(5,5,20)\n",
    "ax.set_title('2011')\n",
    "map = Basemap(projection='npstere',lon_0=0.,boundinglat=60,round=True)\n",
    "map.drawcountries(linewidth=1.0)\n",
    "map.drawcoastlines(linewidth=1.0)\n",
    "lon2,lat2 = np.meshgrid(lonEnew,latENP)\n",
    "x,y = map(lon2,lat2)\n",
    "map.contourf(lon2,lat2, marchmapinterior[19], latlon='True', levels = levels3, cmap='viridis')\n",
    "cbar=map.colorbar(location='bottom', pad='5%', label='m')\n",
    "tick_locator = ticker.MaxNLocator(nbins=8)\n",
    "cbar.locator = tick_locator\n",
    "cbar.update_ticks()\n",
    "\n",
    "ax=fig.add_subplot(5,5,21)\n",
    "ax.set_title('2012')\n",
    "map = Basemap(projection='npstere',lon_0=0.,boundinglat=60,round=True)\n",
    "map.drawcountries(linewidth=1.0)\n",
    "map.drawcoastlines(linewidth=1.0)\n",
    "lon2,lat2 = np.meshgrid(lonEnew,latENP)\n",
    "x,y = map(lon2,lat2)\n",
    "map.contourf(lon2,lat2, marchmapinterior[20], latlon='True', levels = levels3, cmap='viridis')\n",
    "cbar=map.colorbar(location='bottom', pad='5%', label='m')\n",
    "tick_locator = ticker.MaxNLocator(nbins=8)\n",
    "cbar.locator = tick_locator\n",
    "cbar.update_ticks()\n",
    "\n",
    "ax=fig.add_subplot(5,5,22)\n",
    "ax.set_title('2013')\n",
    "map = Basemap(projection='npstere',lon_0=0.,boundinglat=60,round=True)\n",
    "map.drawcountries(linewidth=1.0)\n",
    "map.drawcoastlines(linewidth=1.0)\n",
    "lon2,lat2 = np.meshgrid(lonEnew,latENP)\n",
    "x,y = map(lon2,lat2)\n",
    "map.contourf(lon2,lat2, marchmapinterior[21], latlon='True', levels = levels3, cmap='viridis')\n",
    "cbar=map.colorbar(location='bottom', pad='5%', label='m')\n",
    "tick_locator = ticker.MaxNLocator(nbins=8)\n",
    "cbar.locator = tick_locator\n",
    "cbar.update_ticks()\n",
    "\n",
    "ax=fig.add_subplot(5,5,23)\n",
    "ax.set_title('2014')\n",
    "map = Basemap(projection='npstere',lon_0=0.,boundinglat=60,round=True)\n",
    "map.drawcountries(linewidth=1.0)\n",
    "map.drawcoastlines(linewidth=1.0)\n",
    "lon2,lat2 = np.meshgrid(lonEnew,latENP)\n",
    "x,y = map(lon2,lat2)\n",
    "map.contourf(lon2,lat2, marchmapinterior[22], latlon='True', levels = levels3, cmap='viridis')\n",
    "cbar=map.colorbar(location='bottom', pad='5%', label='m')\n",
    "tick_locator = ticker.MaxNLocator(nbins=8)\n",
    "cbar.locator = tick_locator\n",
    "cbar.update_ticks()\n",
    "\n",
    "plt.tight_layout()\n",
    "\n",
    "plt.subplots_adjust(top=0.94)\n",
    "\n",
    "fig.suptitle(\"March Liquid Freshwater Content for Ocean Interior Between 1992 and 2014\", fontsize=18)\n",
    "\n",
    "# fig.subplots_adjust(top=0.8)\n",
    "# cbar_ax = fig.add_axes([0.85, 0.15, 0.05, 0.7])\n",
    "# fig.colorbar(im, cax=cbar_ax)\n",
    "\n",
    "plt.show()"
   ]
  },
  {
   "cell_type": "code",
   "execution_count": null,
   "metadata": {
    "collapsed": true
   },
   "outputs": [],
   "source": [
    "year1992 = np.mean(lfc1992, axis=0)"
   ]
  },
  {
   "cell_type": "code",
   "execution_count": null,
   "metadata": {
    "collapsed": true
   },
   "outputs": [],
   "source": [
    "year2014 = np.mean(lfc2014, axis=0)"
   ]
  },
  {
   "cell_type": "code",
   "execution_count": null,
   "metadata": {
    "collapsed": true
   },
   "outputs": [],
   "source": [
    "lfc1992 = []\n",
    "lfc2014 = []\n",
    "for i in range(12):\n",
    "    i92 = lfc(s1992, i, 17)\n",
    "    lfc1992.insert(i, i92)"
   ]
  },
  {
   "cell_type": "code",
   "execution_count": null,
   "metadata": {
    "collapsed": true
   },
   "outputs": [],
   "source": [
    "for i in range(12):\n",
    "    i14 = lfc(s2014, i, 17)\n",
    "    lfc2014.insert(i, i14)"
   ]
  },
  {
   "cell_type": "code",
   "execution_count": null,
   "metadata": {
    "collapsed": true
   },
   "outputs": [],
   "source": [
    "titles = ['1992', '2014', 'Difference']"
   ]
  },
  {
   "cell_type": "code",
   "execution_count": null,
   "metadata": {
    "collapsed": true
   },
   "outputs": [],
   "source": [
    "lfcs = [year1992, year2014]"
   ]
  },
  {
   "cell_type": "code",
   "execution_count": null,
   "metadata": {
    "collapsed": true
   },
   "outputs": [],
   "source": [
    "velevs = np.arange(-8, 24.1, 0.1)\n",
    "cmaps = ['viridis', 'viridis', 'bwr']\n",
    "levdiff = np.arange(-4, 4.1, 0.1)\n",
    "levels = [velevs, velevs, levdiff]"
   ]
  },
  {
   "cell_type": "code",
   "execution_count": null,
   "metadata": {
    "collapsed": true
   },
   "outputs": [],
   "source": [
    "nbins = [4,4,5]"
   ]
  },
  {
   "cell_type": "code",
   "execution_count": null,
   "metadata": {
    "collapsed": true
   },
   "outputs": [],
   "source": [
    "fig=plt.figure(figsize=(16,5))\n",
    "for i in range(3):\n",
    "    ax=fig.add_subplot(1,3,i+1)\n",
    "    ax.set_title(titles[i])\n",
    "    map = Basemap(projection='npstere',lon_0=0.,boundinglat=60.,round=True)\n",
    "    map.drawcountries(linewidth=1)\n",
    "    map.drawcoastlines(linewidth=1)\n",
    "    lon1,lat1 = np.meshgrid(lonEnew,latENP)\n",
    "    x,y = map(lon1,lat1)\n",
    "    map.contourf(x,y, seps[i], levels=levels[i], cmap=cmaps[i])\n",
    "    cbar=map.colorbar(location='bottom', pad='5%', label='m')\n",
    "    tick_locator = ticker.MaxNLocator(nbins=nbins[i])\n",
    "    cbar.locator = tick_locator\n",
    "    cbar.update_ticks()\n",
    "plt.show()"
   ]
  },
  {
   "cell_type": "code",
   "execution_count": null,
   "metadata": {
    "collapsed": true
   },
   "outputs": [],
   "source": [
    "sep1992 = lfc(s1992, 8, 17)\n",
    "sep2014 = lfc(s2014, 8, 17)\n"
   ]
  },
  {
   "cell_type": "code",
   "execution_count": null,
   "metadata": {
    "collapsed": true
   },
   "outputs": [],
   "source": [
    "seps = np.asarray([sep1992, sep2014, sepdiff])"
   ]
  },
  {
   "cell_type": "code",
   "execution_count": null,
   "metadata": {
    "collapsed": true
   },
   "outputs": [],
   "source": [
    "sepdiff = np.subtract(sep2014, sep1992)"
   ]
  },
  {
   "cell_type": "code",
   "execution_count": null,
   "metadata": {
    "collapsed": true
   },
   "outputs": [],
   "source": [
    "seps.shape"
   ]
  },
  {
   "cell_type": "code",
   "execution_count": null,
   "metadata": {
    "collapsed": true
   },
   "outputs": [],
   "source": []
  }
 ],
 "metadata": {
  "kernelspec": {
   "display_name": "Python 3",
   "language": "python",
   "name": "python3"
  },
  "language_info": {
   "codemirror_mode": {
    "name": "ipython",
    "version": 3
   },
   "file_extension": ".py",
   "mimetype": "text/x-python",
   "name": "python",
   "nbconvert_exporter": "python",
   "pygments_lexer": "ipython3",
   "version": "3.6.2"
  }
 },
 "nbformat": 4,
 "nbformat_minor": 2
}
